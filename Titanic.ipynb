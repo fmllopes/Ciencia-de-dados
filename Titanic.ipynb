{
 "cells": [
  {
   "cell_type": "markdown",
   "id": "6f0a3216-f662-461f-9250-77b0299f3010",
   "metadata": {},
   "source": [
    "# Projeto Titanic"
   ]
  },
  {
   "cell_type": "markdown",
   "id": "4ba54118-2575-4fa8-8d74-76384a9ef279",
   "metadata": {},
   "source": [
    "Neste notebook contém a estretégia que utilizei para participar da competição: Titanic - Machine Learning from Disaster da plataforma Kaggle. O objetivo é utilizar machine learning para prever os passageiros que sobreviveram ao naufrágio."
   ]
  },
  {
   "cell_type": "markdown",
   "id": "25efa351-75e8-4682-a8ba-92b168b7daf4",
   "metadata": {},
   "source": [
    "Os atributos do conjunto de dados são:\n",
    "\n",
    "* `PassengerId`: Id do passageiro\n",
    "* `Survived`: sobrevivência (0 = Não, 1 = Sim)\n",
    "* `Pclass`: Classe do bilhete (1 = 1º, 2 = 2º, 3 = 3º)\n",
    "* `Name`: Nome do passageiro\n",
    "* `Sex`: Sexo\n",
    "* `Age`: Idade em anos\n",
    "* `SibSp`: Número de irmãos/cônjuges a bordo do Titanic\n",
    "* `Parch`: Números de pais/filhos a bordo do Titanic\n",
    "* `Ticket`: Número do bilhete\n",
    "* `Fare`: Tarifa do passageiro\n",
    "* `Cabin`: Número da cabine\t\n",
    "* `Embarked`: Porto de embarcação (C = Cherbourg, Q = Queenstown, S = Southampton)"
   ]
  },
  {
   "cell_type": "code",
   "execution_count": 1,
   "id": "674bc35a-d84c-4d49-9370-9ea2d2cbcfe8",
   "metadata": {},
   "outputs": [],
   "source": [
    "import numpy as np\n",
    "import pandas as pd\n",
    "import matplotlib.pyplot as plt\n",
    "import seaborn as sns"
   ]
  },
  {
   "cell_type": "code",
   "execution_count": 2,
   "id": "4ea7357c-6ce7-4ca2-8112-14f39fe8fc6c",
   "metadata": {},
   "outputs": [],
   "source": [
    "df = pd.read_csv('titanic_all.csv')"
   ]
  },
  {
   "cell_type": "markdown",
   "id": "c09ac95c-356f-4508-8d9e-d188dc642374",
   "metadata": {},
   "source": [
    "## Conhecendo o conjunto de dados"
   ]
  },
  {
   "cell_type": "markdown",
   "id": "4e23e2c1-a7a9-465b-8ff3-a9b604315743",
   "metadata": {},
   "source": [
    "Nesta etapa, vamos obter algumas informações iniciais sobre nosso conjunto de dados"
   ]
  },
  {
   "cell_type": "code",
   "execution_count": 3,
   "id": "7e9d5411-c277-4fbf-8c5b-706b0c9a12de",
   "metadata": {},
   "outputs": [
    {
     "data": {
      "text/html": [
       "<div>\n",
       "<style scoped>\n",
       "    .dataframe tbody tr th:only-of-type {\n",
       "        vertical-align: middle;\n",
       "    }\n",
       "\n",
       "    .dataframe tbody tr th {\n",
       "        vertical-align: top;\n",
       "    }\n",
       "\n",
       "    .dataframe thead th {\n",
       "        text-align: right;\n",
       "    }\n",
       "</style>\n",
       "<table border=\"1\" class=\"dataframe\">\n",
       "  <thead>\n",
       "    <tr style=\"text-align: right;\">\n",
       "      <th></th>\n",
       "      <th>PassengerId</th>\n",
       "      <th>Survived</th>\n",
       "      <th>Pclass</th>\n",
       "      <th>Name</th>\n",
       "      <th>Sex</th>\n",
       "      <th>Age</th>\n",
       "      <th>SibSp</th>\n",
       "      <th>Parch</th>\n",
       "      <th>Ticket</th>\n",
       "      <th>Fare</th>\n",
       "      <th>Cabin</th>\n",
       "      <th>Embarked</th>\n",
       "    </tr>\n",
       "  </thead>\n",
       "  <tbody>\n",
       "    <tr>\n",
       "      <th>0</th>\n",
       "      <td>1</td>\n",
       "      <td>0.0</td>\n",
       "      <td>3</td>\n",
       "      <td>Braund, Mr. Owen Harris</td>\n",
       "      <td>male</td>\n",
       "      <td>22.0</td>\n",
       "      <td>1</td>\n",
       "      <td>0</td>\n",
       "      <td>A/5 21171</td>\n",
       "      <td>7.2500</td>\n",
       "      <td>NaN</td>\n",
       "      <td>S</td>\n",
       "    </tr>\n",
       "    <tr>\n",
       "      <th>1</th>\n",
       "      <td>2</td>\n",
       "      <td>1.0</td>\n",
       "      <td>1</td>\n",
       "      <td>Cumings, Mrs. John Bradley (Florence Briggs Th...</td>\n",
       "      <td>female</td>\n",
       "      <td>38.0</td>\n",
       "      <td>1</td>\n",
       "      <td>0</td>\n",
       "      <td>PC 17599</td>\n",
       "      <td>71.2833</td>\n",
       "      <td>C85</td>\n",
       "      <td>C</td>\n",
       "    </tr>\n",
       "    <tr>\n",
       "      <th>2</th>\n",
       "      <td>3</td>\n",
       "      <td>1.0</td>\n",
       "      <td>3</td>\n",
       "      <td>Heikkinen, Miss. Laina</td>\n",
       "      <td>female</td>\n",
       "      <td>26.0</td>\n",
       "      <td>0</td>\n",
       "      <td>0</td>\n",
       "      <td>STON/O2. 3101282</td>\n",
       "      <td>7.9250</td>\n",
       "      <td>NaN</td>\n",
       "      <td>S</td>\n",
       "    </tr>\n",
       "  </tbody>\n",
       "</table>\n",
       "</div>"
      ],
      "text/plain": [
       "   PassengerId  Survived  Pclass  \\\n",
       "0            1       0.0       3   \n",
       "1            2       1.0       1   \n",
       "2            3       1.0       3   \n",
       "\n",
       "                                                Name     Sex   Age  SibSp  \\\n",
       "0                            Braund, Mr. Owen Harris    male  22.0      1   \n",
       "1  Cumings, Mrs. John Bradley (Florence Briggs Th...  female  38.0      1   \n",
       "2                             Heikkinen, Miss. Laina  female  26.0      0   \n",
       "\n",
       "   Parch            Ticket     Fare Cabin Embarked  \n",
       "0      0         A/5 21171   7.2500   NaN        S  \n",
       "1      0          PC 17599  71.2833   C85        C  \n",
       "2      0  STON/O2. 3101282   7.9250   NaN        S  "
      ]
     },
     "execution_count": 3,
     "metadata": {},
     "output_type": "execute_result"
    }
   ],
   "source": [
    "# Vizualizando parte do dataframe\n",
    "df.head(3)"
   ]
  },
  {
   "cell_type": "code",
   "execution_count": 4,
   "id": "7f02cc03-801a-4f28-be39-353bd17b2cd5",
   "metadata": {},
   "outputs": [
    {
     "name": "stdout",
     "output_type": "stream",
     "text": [
      "<class 'pandas.core.frame.DataFrame'>\n",
      "RangeIndex: 1309 entries, 0 to 1308\n",
      "Data columns (total 12 columns):\n",
      " #   Column       Non-Null Count  Dtype  \n",
      "---  ------       --------------  -----  \n",
      " 0   PassengerId  1309 non-null   int64  \n",
      " 1   Survived     891 non-null    float64\n",
      " 2   Pclass       1309 non-null   int64  \n",
      " 3   Name         1309 non-null   object \n",
      " 4   Sex          1309 non-null   object \n",
      " 5   Age          1046 non-null   float64\n",
      " 6   SibSp        1309 non-null   int64  \n",
      " 7   Parch        1309 non-null   int64  \n",
      " 8   Ticket       1309 non-null   object \n",
      " 9   Fare         1308 non-null   float64\n",
      " 10  Cabin        295 non-null    object \n",
      " 11  Embarked     1307 non-null   object \n",
      "dtypes: float64(3), int64(4), object(5)\n",
      "memory usage: 122.8+ KB\n"
     ]
    }
   ],
   "source": [
    "#Vizualizando os atributos, valores nulos e os tipos de dados\n",
    "df.info()"
   ]
  },
  {
   "cell_type": "code",
   "execution_count": 5,
   "id": "503243db-4f89-4086-b86a-09e5b7f1a722",
   "metadata": {},
   "outputs": [
    {
     "data": {
      "text/html": [
       "<div>\n",
       "<style scoped>\n",
       "    .dataframe tbody tr th:only-of-type {\n",
       "        vertical-align: middle;\n",
       "    }\n",
       "\n",
       "    .dataframe tbody tr th {\n",
       "        vertical-align: top;\n",
       "    }\n",
       "\n",
       "    .dataframe thead th {\n",
       "        text-align: right;\n",
       "    }\n",
       "</style>\n",
       "<table border=\"1\" class=\"dataframe\">\n",
       "  <thead>\n",
       "    <tr style=\"text-align: right;\">\n",
       "      <th></th>\n",
       "      <th>PassengerId</th>\n",
       "      <th>Survived</th>\n",
       "      <th>Pclass</th>\n",
       "      <th>Age</th>\n",
       "      <th>SibSp</th>\n",
       "      <th>Parch</th>\n",
       "      <th>Fare</th>\n",
       "    </tr>\n",
       "  </thead>\n",
       "  <tbody>\n",
       "    <tr>\n",
       "      <th>count</th>\n",
       "      <td>1309.000000</td>\n",
       "      <td>891.000000</td>\n",
       "      <td>1309.000000</td>\n",
       "      <td>1046.000000</td>\n",
       "      <td>1309.000000</td>\n",
       "      <td>1309.000000</td>\n",
       "      <td>1308.000000</td>\n",
       "    </tr>\n",
       "    <tr>\n",
       "      <th>mean</th>\n",
       "      <td>655.000000</td>\n",
       "      <td>0.383838</td>\n",
       "      <td>2.294882</td>\n",
       "      <td>29.881138</td>\n",
       "      <td>0.498854</td>\n",
       "      <td>0.385027</td>\n",
       "      <td>33.295479</td>\n",
       "    </tr>\n",
       "    <tr>\n",
       "      <th>std</th>\n",
       "      <td>378.020061</td>\n",
       "      <td>0.486592</td>\n",
       "      <td>0.837836</td>\n",
       "      <td>14.413493</td>\n",
       "      <td>1.041658</td>\n",
       "      <td>0.865560</td>\n",
       "      <td>51.758668</td>\n",
       "    </tr>\n",
       "    <tr>\n",
       "      <th>min</th>\n",
       "      <td>1.000000</td>\n",
       "      <td>0.000000</td>\n",
       "      <td>1.000000</td>\n",
       "      <td>0.170000</td>\n",
       "      <td>0.000000</td>\n",
       "      <td>0.000000</td>\n",
       "      <td>0.000000</td>\n",
       "    </tr>\n",
       "    <tr>\n",
       "      <th>25%</th>\n",
       "      <td>328.000000</td>\n",
       "      <td>0.000000</td>\n",
       "      <td>2.000000</td>\n",
       "      <td>21.000000</td>\n",
       "      <td>0.000000</td>\n",
       "      <td>0.000000</td>\n",
       "      <td>7.895800</td>\n",
       "    </tr>\n",
       "    <tr>\n",
       "      <th>50%</th>\n",
       "      <td>655.000000</td>\n",
       "      <td>0.000000</td>\n",
       "      <td>3.000000</td>\n",
       "      <td>28.000000</td>\n",
       "      <td>0.000000</td>\n",
       "      <td>0.000000</td>\n",
       "      <td>14.454200</td>\n",
       "    </tr>\n",
       "    <tr>\n",
       "      <th>75%</th>\n",
       "      <td>982.000000</td>\n",
       "      <td>1.000000</td>\n",
       "      <td>3.000000</td>\n",
       "      <td>39.000000</td>\n",
       "      <td>1.000000</td>\n",
       "      <td>0.000000</td>\n",
       "      <td>31.275000</td>\n",
       "    </tr>\n",
       "    <tr>\n",
       "      <th>max</th>\n",
       "      <td>1309.000000</td>\n",
       "      <td>1.000000</td>\n",
       "      <td>3.000000</td>\n",
       "      <td>80.000000</td>\n",
       "      <td>8.000000</td>\n",
       "      <td>9.000000</td>\n",
       "      <td>512.329200</td>\n",
       "    </tr>\n",
       "  </tbody>\n",
       "</table>\n",
       "</div>"
      ],
      "text/plain": [
       "       PassengerId    Survived       Pclass          Age        SibSp  \\\n",
       "count  1309.000000  891.000000  1309.000000  1046.000000  1309.000000   \n",
       "mean    655.000000    0.383838     2.294882    29.881138     0.498854   \n",
       "std     378.020061    0.486592     0.837836    14.413493     1.041658   \n",
       "min       1.000000    0.000000     1.000000     0.170000     0.000000   \n",
       "25%     328.000000    0.000000     2.000000    21.000000     0.000000   \n",
       "50%     655.000000    0.000000     3.000000    28.000000     0.000000   \n",
       "75%     982.000000    1.000000     3.000000    39.000000     1.000000   \n",
       "max    1309.000000    1.000000     3.000000    80.000000     8.000000   \n",
       "\n",
       "             Parch         Fare  \n",
       "count  1309.000000  1308.000000  \n",
       "mean      0.385027    33.295479  \n",
       "std       0.865560    51.758668  \n",
       "min       0.000000     0.000000  \n",
       "25%       0.000000     7.895800  \n",
       "50%       0.000000    14.454200  \n",
       "75%       0.000000    31.275000  \n",
       "max       9.000000   512.329200  "
      ]
     },
     "execution_count": 5,
     "metadata": {},
     "output_type": "execute_result"
    }
   ],
   "source": [
    "# Medidas estatisticas sobre os dados numéricos\n",
    "df.describe()"
   ]
  },
  {
   "cell_type": "markdown",
   "id": "cb597661-95e1-405c-b54e-9764bd593467",
   "metadata": {},
   "source": [
    "Observações:\n",
    "* nos campos do atributo `Name` há um título de tratamento. Esta informação pode ser útil na análise.\n",
    "* há campos nulos nos atributos `Age`, `Fare`, `Cabin` e `Embarked`. \n",
    "* O tipo de dados da coluna `Survived` deveria ser inteiro\n",
    "* O campo `Fare` possui valores descrepantes"
   ]
  },
  {
   "cell_type": "markdown",
   "id": "7097e783-06e6-430c-9dd3-c8c4963441f0",
   "metadata": {},
   "source": [
    "## Tratamento inicial dos dados"
   ]
  },
  {
   "cell_type": "markdown",
   "id": "ae51df75-27ae-41c7-8e0b-7d9e20f60dde",
   "metadata": {},
   "source": [
    "Vamos inserir o título de tratamento como um atributo do dataframe."
   ]
  },
  {
   "cell_type": "code",
   "execution_count": 7,
   "id": "e03b8e35-385c-4300-8bc2-7e85001b11b4",
   "metadata": {},
   "outputs": [
    {
     "data": {
      "text/html": [
       "<div>\n",
       "<style scoped>\n",
       "    .dataframe tbody tr th:only-of-type {\n",
       "        vertical-align: middle;\n",
       "    }\n",
       "\n",
       "    .dataframe tbody tr th {\n",
       "        vertical-align: top;\n",
       "    }\n",
       "\n",
       "    .dataframe thead th {\n",
       "        text-align: right;\n",
       "    }\n",
       "</style>\n",
       "<table border=\"1\" class=\"dataframe\">\n",
       "  <thead>\n",
       "    <tr style=\"text-align: right;\">\n",
       "      <th></th>\n",
       "      <th>PassengerId</th>\n",
       "      <th>Survived</th>\n",
       "      <th>Pclass</th>\n",
       "      <th>Name</th>\n",
       "      <th>Sex</th>\n",
       "      <th>Age</th>\n",
       "      <th>SibSp</th>\n",
       "      <th>Parch</th>\n",
       "      <th>Ticket</th>\n",
       "      <th>Fare</th>\n",
       "      <th>Cabin</th>\n",
       "      <th>Embarked</th>\n",
       "      <th>Title</th>\n",
       "    </tr>\n",
       "  </thead>\n",
       "  <tbody>\n",
       "    <tr>\n",
       "      <th>0</th>\n",
       "      <td>1</td>\n",
       "      <td>0.0</td>\n",
       "      <td>3</td>\n",
       "      <td>Braund, Mr. Owen Harris</td>\n",
       "      <td>male</td>\n",
       "      <td>22.0</td>\n",
       "      <td>1</td>\n",
       "      <td>0</td>\n",
       "      <td>A/5 21171</td>\n",
       "      <td>7.2500</td>\n",
       "      <td>NaN</td>\n",
       "      <td>S</td>\n",
       "      <td>Mr.</td>\n",
       "    </tr>\n",
       "    <tr>\n",
       "      <th>1</th>\n",
       "      <td>2</td>\n",
       "      <td>1.0</td>\n",
       "      <td>1</td>\n",
       "      <td>Cumings, Mrs. John Bradley (Florence Briggs Th...</td>\n",
       "      <td>female</td>\n",
       "      <td>38.0</td>\n",
       "      <td>1</td>\n",
       "      <td>0</td>\n",
       "      <td>PC 17599</td>\n",
       "      <td>71.2833</td>\n",
       "      <td>C85</td>\n",
       "      <td>C</td>\n",
       "      <td>Mrs.</td>\n",
       "    </tr>\n",
       "    <tr>\n",
       "      <th>2</th>\n",
       "      <td>3</td>\n",
       "      <td>1.0</td>\n",
       "      <td>3</td>\n",
       "      <td>Heikkinen, Miss. Laina</td>\n",
       "      <td>female</td>\n",
       "      <td>26.0</td>\n",
       "      <td>0</td>\n",
       "      <td>0</td>\n",
       "      <td>STON/O2. 3101282</td>\n",
       "      <td>7.9250</td>\n",
       "      <td>NaN</td>\n",
       "      <td>S</td>\n",
       "      <td>Miss.</td>\n",
       "    </tr>\n",
       "    <tr>\n",
       "      <th>3</th>\n",
       "      <td>4</td>\n",
       "      <td>1.0</td>\n",
       "      <td>1</td>\n",
       "      <td>Futrelle, Mrs. Jacques Heath (Lily May Peel)</td>\n",
       "      <td>female</td>\n",
       "      <td>35.0</td>\n",
       "      <td>1</td>\n",
       "      <td>0</td>\n",
       "      <td>113803</td>\n",
       "      <td>53.1000</td>\n",
       "      <td>C123</td>\n",
       "      <td>S</td>\n",
       "      <td>Mrs.</td>\n",
       "    </tr>\n",
       "    <tr>\n",
       "      <th>4</th>\n",
       "      <td>5</td>\n",
       "      <td>0.0</td>\n",
       "      <td>3</td>\n",
       "      <td>Allen, Mr. William Henry</td>\n",
       "      <td>male</td>\n",
       "      <td>35.0</td>\n",
       "      <td>0</td>\n",
       "      <td>0</td>\n",
       "      <td>373450</td>\n",
       "      <td>8.0500</td>\n",
       "      <td>NaN</td>\n",
       "      <td>S</td>\n",
       "      <td>Mr.</td>\n",
       "    </tr>\n",
       "  </tbody>\n",
       "</table>\n",
       "</div>"
      ],
      "text/plain": [
       "   PassengerId  Survived  Pclass  \\\n",
       "0            1       0.0       3   \n",
       "1            2       1.0       1   \n",
       "2            3       1.0       3   \n",
       "3            4       1.0       1   \n",
       "4            5       0.0       3   \n",
       "\n",
       "                                                Name     Sex   Age  SibSp  \\\n",
       "0                            Braund, Mr. Owen Harris    male  22.0      1   \n",
       "1  Cumings, Mrs. John Bradley (Florence Briggs Th...  female  38.0      1   \n",
       "2                             Heikkinen, Miss. Laina  female  26.0      0   \n",
       "3       Futrelle, Mrs. Jacques Heath (Lily May Peel)  female  35.0      1   \n",
       "4                           Allen, Mr. William Henry    male  35.0      0   \n",
       "\n",
       "   Parch            Ticket     Fare Cabin Embarked  Title  \n",
       "0      0         A/5 21171   7.2500   NaN        S    Mr.  \n",
       "1      0          PC 17599  71.2833   C85        C   Mrs.  \n",
       "2      0  STON/O2. 3101282   7.9250   NaN        S  Miss.  \n",
       "3      0            113803  53.1000  C123        S   Mrs.  \n",
       "4      0            373450   8.0500   NaN        S    Mr.  "
      ]
     },
     "execution_count": 7,
     "metadata": {},
     "output_type": "execute_result"
    }
   ],
   "source": [
    "# Adiciona o campo título de tratamento no dataframe\n",
    "separador = []\n",
    "for nome in df['Name']:\n",
    "    item = nome.split(' ')\n",
    "    separador.append(item)\n",
    "        \n",
    "titulos = []\n",
    "for item in separador:\n",
    "    for nome in item:\n",
    "        if ('.' in nome) and (nome != 'L.'):\n",
    "            titulos.append(nome)\n",
    "    \n",
    "df['Title'] = titulos\n",
    "df.head()"
   ]
  },
  {
   "cell_type": "markdown",
   "id": "bedcb557-0048-42c9-ae42-35baac9f99d9",
   "metadata": {},
   "source": [
    "## Análise exploratória dos dados"
   ]
  },
  {
   "cell_type": "markdown",
   "id": "4a626af7-67d7-4dda-aa08-9deceb4c1ef2",
   "metadata": {},
   "source": [
    "Antes de realizar a limpeza dos dados e um tratamento mais profundo no dados, vamos obsevar como o conjunto de dados está distribuido, respondendo algumas questões. Para isto, vamos utilizar o conjunto de dados de treino que possui a informação da sobrevivência ou não dos passageiros."
   ]
  },
  {
   "cell_type": "code",
   "execution_count": 9,
   "id": "36a0bfcb-7f2d-4a09-b20a-d2c72595f7e3",
   "metadata": {},
   "outputs": [],
   "source": [
    "treino = df[df['PassengerId'] <= 891]"
   ]
  },
  {
   "cell_type": "markdown",
   "id": "95b71ed2-ac4c-4b62-b8c9-99b8cd9897a7",
   "metadata": {},
   "source": [
    "### O sexo e a classe estão relacionadas com a sobrevivência?"
   ]
  },
  {
   "cell_type": "code",
   "execution_count": 10,
   "id": "9b53fe35-bdd6-4e8a-a988-b4a5eb91a5cf",
   "metadata": {},
   "outputs": [],
   "source": [
    "def figura_sobrevivente_sexo_classe (df):\n",
    "    \n",
    "    #filtrando o conjunto de dados pelo sexo\n",
    "    mulheres = df[df['Sex'] == 0]\n",
    "    homens = df[df['Sex'] == 1]\n",
    "    \n",
    "    #Agrupando as informações de classe e contagem de sobreviventes\n",
    "    grupo1 = mulheres.groupby(['Pclass','Survived']).agg(count=('Survived', 'count')) \n",
    "    grupo1 = grupo1.reset_index()\n",
    "\n",
    "    grupo2 = homens.groupby(['Pclass','Survived']).agg(count=('Survived', 'count')) \n",
    "    grupo2 = grupo2.reset_index()\n",
    "    \n",
    "    #Gráfico\n",
    "    figura = plt.figure(figsize=(14,7))\n",
    "\n",
    "    figura.add_subplot(1,2,1)\n",
    "    sns.set_style('darkgrid')\n",
    "    sns.barplot(x=\"Pclass\", y=\"count\", hue=\"Survived\", data=grupo1,palette='mako')   \n",
    "    plt.ylabel(\"Contagem\") \n",
    "    plt.ylim([0,350])\n",
    "    plt.xlabel(\"Classe do bilhete\")\n",
    "    plt.title('Mulheres')\n",
    "\n",
    "    figura.add_subplot(1,2,2)\n",
    "    sns.set_style('darkgrid')\n",
    "    sns.barplot(x=\"Pclass\", y=\"count\", hue=\"Survived\", data=grupo2,palette='mako')\n",
    "    plt.ylabel(\"Contagem\")\n",
    "    plt.ylim([0,350])\n",
    "    plt.xlabel(\"Classe do bilhete\")\n",
    "    plt.title('Homens')\n",
    "\n",
    "    plt.show()"
   ]
  },
  {
   "cell_type": "code",
   "execution_count": 11,
   "id": "1864e3da-388c-4e11-815a-c1d58c48e411",
   "metadata": {},
   "outputs": [
    {
     "ename": "ValueError",
     "evalue": "min() arg is an empty sequence",
     "output_type": "error",
     "traceback": [
      "\u001b[1;31m---------------------------------------------------------------------------\u001b[0m",
      "\u001b[1;31mValueError\u001b[0m                                Traceback (most recent call last)",
      "\u001b[1;32m<ipython-input-11-624f42f73ee1>\u001b[0m in \u001b[0;36m<module>\u001b[1;34m\u001b[0m\n\u001b[1;32m----> 1\u001b[1;33m \u001b[0mfigura_sobrevivente_sexo_classe\u001b[0m\u001b[1;33m(\u001b[0m\u001b[0mtreino\u001b[0m\u001b[1;33m)\u001b[0m\u001b[1;33m\u001b[0m\u001b[1;33m\u001b[0m\u001b[0m\n\u001b[0m",
      "\u001b[1;32m<ipython-input-10-af6cfe157193>\u001b[0m in \u001b[0;36mfigura_sobrevivente_sexo_classe\u001b[1;34m(df)\u001b[0m\n\u001b[0;32m     17\u001b[0m     \u001b[0mfigura\u001b[0m\u001b[1;33m.\u001b[0m\u001b[0madd_subplot\u001b[0m\u001b[1;33m(\u001b[0m\u001b[1;36m1\u001b[0m\u001b[1;33m,\u001b[0m\u001b[1;36m2\u001b[0m\u001b[1;33m,\u001b[0m\u001b[1;36m1\u001b[0m\u001b[1;33m)\u001b[0m\u001b[1;33m\u001b[0m\u001b[1;33m\u001b[0m\u001b[0m\n\u001b[0;32m     18\u001b[0m     \u001b[0msns\u001b[0m\u001b[1;33m.\u001b[0m\u001b[0mset_style\u001b[0m\u001b[1;33m(\u001b[0m\u001b[1;34m'darkgrid'\u001b[0m\u001b[1;33m)\u001b[0m\u001b[1;33m\u001b[0m\u001b[1;33m\u001b[0m\u001b[0m\n\u001b[1;32m---> 19\u001b[1;33m     \u001b[0msns\u001b[0m\u001b[1;33m.\u001b[0m\u001b[0mbarplot\u001b[0m\u001b[1;33m(\u001b[0m\u001b[0mx\u001b[0m\u001b[1;33m=\u001b[0m\u001b[1;34m\"Pclass\"\u001b[0m\u001b[1;33m,\u001b[0m \u001b[0my\u001b[0m\u001b[1;33m=\u001b[0m\u001b[1;34m\"count\"\u001b[0m\u001b[1;33m,\u001b[0m \u001b[0mhue\u001b[0m\u001b[1;33m=\u001b[0m\u001b[1;34m\"Survived\"\u001b[0m\u001b[1;33m,\u001b[0m \u001b[0mdata\u001b[0m\u001b[1;33m=\u001b[0m\u001b[0mgrupo1\u001b[0m\u001b[1;33m,\u001b[0m\u001b[0mpalette\u001b[0m\u001b[1;33m=\u001b[0m\u001b[1;34m'mako'\u001b[0m\u001b[1;33m)\u001b[0m\u001b[1;33m\u001b[0m\u001b[1;33m\u001b[0m\u001b[0m\n\u001b[0m\u001b[0;32m     20\u001b[0m     \u001b[0mplt\u001b[0m\u001b[1;33m.\u001b[0m\u001b[0mylabel\u001b[0m\u001b[1;33m(\u001b[0m\u001b[1;34m\"Contagem\"\u001b[0m\u001b[1;33m)\u001b[0m\u001b[1;33m\u001b[0m\u001b[1;33m\u001b[0m\u001b[0m\n\u001b[0;32m     21\u001b[0m     \u001b[0mplt\u001b[0m\u001b[1;33m.\u001b[0m\u001b[0mylim\u001b[0m\u001b[1;33m(\u001b[0m\u001b[1;33m[\u001b[0m\u001b[1;36m0\u001b[0m\u001b[1;33m,\u001b[0m\u001b[1;36m350\u001b[0m\u001b[1;33m]\u001b[0m\u001b[1;33m)\u001b[0m\u001b[1;33m\u001b[0m\u001b[1;33m\u001b[0m\u001b[0m\n",
      "\u001b[1;32m~\\anaconda3\\lib\\site-packages\\seaborn\\_decorators.py\u001b[0m in \u001b[0;36minner_f\u001b[1;34m(*args, **kwargs)\u001b[0m\n\u001b[0;32m     44\u001b[0m             )\n\u001b[0;32m     45\u001b[0m         \u001b[0mkwargs\u001b[0m\u001b[1;33m.\u001b[0m\u001b[0mupdate\u001b[0m\u001b[1;33m(\u001b[0m\u001b[1;33m{\u001b[0m\u001b[0mk\u001b[0m\u001b[1;33m:\u001b[0m \u001b[0marg\u001b[0m \u001b[1;32mfor\u001b[0m \u001b[0mk\u001b[0m\u001b[1;33m,\u001b[0m \u001b[0marg\u001b[0m \u001b[1;32min\u001b[0m \u001b[0mzip\u001b[0m\u001b[1;33m(\u001b[0m\u001b[0msig\u001b[0m\u001b[1;33m.\u001b[0m\u001b[0mparameters\u001b[0m\u001b[1;33m,\u001b[0m \u001b[0margs\u001b[0m\u001b[1;33m)\u001b[0m\u001b[1;33m}\u001b[0m\u001b[1;33m)\u001b[0m\u001b[1;33m\u001b[0m\u001b[1;33m\u001b[0m\u001b[0m\n\u001b[1;32m---> 46\u001b[1;33m         \u001b[1;32mreturn\u001b[0m \u001b[0mf\u001b[0m\u001b[1;33m(\u001b[0m\u001b[1;33m**\u001b[0m\u001b[0mkwargs\u001b[0m\u001b[1;33m)\u001b[0m\u001b[1;33m\u001b[0m\u001b[1;33m\u001b[0m\u001b[0m\n\u001b[0m\u001b[0;32m     47\u001b[0m     \u001b[1;32mreturn\u001b[0m \u001b[0minner_f\u001b[0m\u001b[1;33m\u001b[0m\u001b[1;33m\u001b[0m\u001b[0m\n\u001b[0;32m     48\u001b[0m \u001b[1;33m\u001b[0m\u001b[0m\n",
      "\u001b[1;32m~\\anaconda3\\lib\\site-packages\\seaborn\\categorical.py\u001b[0m in \u001b[0;36mbarplot\u001b[1;34m(x, y, hue, data, order, hue_order, estimator, ci, n_boot, units, seed, orient, color, palette, saturation, errcolor, errwidth, capsize, dodge, ax, **kwargs)\u001b[0m\n\u001b[0;32m   3177\u001b[0m ):\n\u001b[0;32m   3178\u001b[0m \u001b[1;33m\u001b[0m\u001b[0m\n\u001b[1;32m-> 3179\u001b[1;33m     plotter = _BarPlotter(x, y, hue, data, order, hue_order,\n\u001b[0m\u001b[0;32m   3180\u001b[0m                           \u001b[0mestimator\u001b[0m\u001b[1;33m,\u001b[0m \u001b[0mci\u001b[0m\u001b[1;33m,\u001b[0m \u001b[0mn_boot\u001b[0m\u001b[1;33m,\u001b[0m \u001b[0munits\u001b[0m\u001b[1;33m,\u001b[0m \u001b[0mseed\u001b[0m\u001b[1;33m,\u001b[0m\u001b[1;33m\u001b[0m\u001b[1;33m\u001b[0m\u001b[0m\n\u001b[0;32m   3181\u001b[0m                           \u001b[0morient\u001b[0m\u001b[1;33m,\u001b[0m \u001b[0mcolor\u001b[0m\u001b[1;33m,\u001b[0m \u001b[0mpalette\u001b[0m\u001b[1;33m,\u001b[0m \u001b[0msaturation\u001b[0m\u001b[1;33m,\u001b[0m\u001b[1;33m\u001b[0m\u001b[1;33m\u001b[0m\u001b[0m\n",
      "\u001b[1;32m~\\anaconda3\\lib\\site-packages\\seaborn\\categorical.py\u001b[0m in \u001b[0;36m__init__\u001b[1;34m(self, x, y, hue, data, order, hue_order, estimator, ci, n_boot, units, seed, orient, color, palette, saturation, errcolor, errwidth, capsize, dodge)\u001b[0m\n\u001b[0;32m   1584\u001b[0m         self.establish_variables(x, y, hue, data, orient,\n\u001b[0;32m   1585\u001b[0m                                  order, hue_order, units)\n\u001b[1;32m-> 1586\u001b[1;33m         \u001b[0mself\u001b[0m\u001b[1;33m.\u001b[0m\u001b[0mestablish_colors\u001b[0m\u001b[1;33m(\u001b[0m\u001b[0mcolor\u001b[0m\u001b[1;33m,\u001b[0m \u001b[0mpalette\u001b[0m\u001b[1;33m,\u001b[0m \u001b[0msaturation\u001b[0m\u001b[1;33m)\u001b[0m\u001b[1;33m\u001b[0m\u001b[1;33m\u001b[0m\u001b[0m\n\u001b[0m\u001b[0;32m   1587\u001b[0m         \u001b[0mself\u001b[0m\u001b[1;33m.\u001b[0m\u001b[0mestimate_statistic\u001b[0m\u001b[1;33m(\u001b[0m\u001b[0mestimator\u001b[0m\u001b[1;33m,\u001b[0m \u001b[0mci\u001b[0m\u001b[1;33m,\u001b[0m \u001b[0mn_boot\u001b[0m\u001b[1;33m,\u001b[0m \u001b[0mseed\u001b[0m\u001b[1;33m)\u001b[0m\u001b[1;33m\u001b[0m\u001b[1;33m\u001b[0m\u001b[0m\n\u001b[0;32m   1588\u001b[0m \u001b[1;33m\u001b[0m\u001b[0m\n",
      "\u001b[1;32m~\\anaconda3\\lib\\site-packages\\seaborn\\categorical.py\u001b[0m in \u001b[0;36mestablish_colors\u001b[1;34m(self, color, palette, saturation)\u001b[0m\n\u001b[0;32m    317\u001b[0m         \u001b[1;31m# Determine the gray color to use for the lines framing the plot\u001b[0m\u001b[1;33m\u001b[0m\u001b[1;33m\u001b[0m\u001b[1;33m\u001b[0m\u001b[0m\n\u001b[0;32m    318\u001b[0m         \u001b[0mlight_vals\u001b[0m \u001b[1;33m=\u001b[0m \u001b[1;33m[\u001b[0m\u001b[0mcolorsys\u001b[0m\u001b[1;33m.\u001b[0m\u001b[0mrgb_to_hls\u001b[0m\u001b[1;33m(\u001b[0m\u001b[1;33m*\u001b[0m\u001b[0mc\u001b[0m\u001b[1;33m)\u001b[0m\u001b[1;33m[\u001b[0m\u001b[1;36m1\u001b[0m\u001b[1;33m]\u001b[0m \u001b[1;32mfor\u001b[0m \u001b[0mc\u001b[0m \u001b[1;32min\u001b[0m \u001b[0mrgb_colors\u001b[0m\u001b[1;33m]\u001b[0m\u001b[1;33m\u001b[0m\u001b[1;33m\u001b[0m\u001b[0m\n\u001b[1;32m--> 319\u001b[1;33m         \u001b[0mlum\u001b[0m \u001b[1;33m=\u001b[0m \u001b[0mmin\u001b[0m\u001b[1;33m(\u001b[0m\u001b[0mlight_vals\u001b[0m\u001b[1;33m)\u001b[0m \u001b[1;33m*\u001b[0m \u001b[1;36m.6\u001b[0m\u001b[1;33m\u001b[0m\u001b[1;33m\u001b[0m\u001b[0m\n\u001b[0m\u001b[0;32m    320\u001b[0m         \u001b[0mgray\u001b[0m \u001b[1;33m=\u001b[0m \u001b[0mmpl\u001b[0m\u001b[1;33m.\u001b[0m\u001b[0mcolors\u001b[0m\u001b[1;33m.\u001b[0m\u001b[0mrgb2hex\u001b[0m\u001b[1;33m(\u001b[0m\u001b[1;33m(\u001b[0m\u001b[0mlum\u001b[0m\u001b[1;33m,\u001b[0m \u001b[0mlum\u001b[0m\u001b[1;33m,\u001b[0m \u001b[0mlum\u001b[0m\u001b[1;33m)\u001b[0m\u001b[1;33m)\u001b[0m\u001b[1;33m\u001b[0m\u001b[1;33m\u001b[0m\u001b[0m\n\u001b[0;32m    321\u001b[0m \u001b[1;33m\u001b[0m\u001b[0m\n",
      "\u001b[1;31mValueError\u001b[0m: min() arg is an empty sequence"
     ]
    },
    {
     "data": {
      "image/png": "[encoded data removed]",
      "text/plain": [
       "<Figure size 1008x504 with 1 Axes>"
      ]
     },
     "metadata": {
      "needs_background": "light"
     },
     "output_type": "display_data"
    }
   ],
   "source": [
    "figura_sobrevivente_sexo_classe(treino)"
   ]
  },
  {
   "cell_type": "markdown",
   "id": "a5b31505-8d91-4a25-8652-e5f5222101f7",
   "metadata": {},
   "source": [
    "Pelos gráficos acima, observamos que:\n",
    "* a maioria da mulheres das classes 1 e 2 sobreviveram\n",
    "* metade das mulheres classe 3 sobreviveram. \n",
    "* um terço dos homens da classe 1 sobreviveram  "
   ]
  },
  {
   "cell_type": "markdown",
   "id": "09c486c5-a080-4787-a583-862068c354b5",
   "metadata": {},
   "source": [
    "### A idade está relacionada com a sobrevivência?"
   ]
  },
  {
   "cell_type": "code",
   "execution_count": 12,
   "id": "5ff0bab0-2587-47f9-ae19-55b380a63703",
   "metadata": {},
   "outputs": [],
   "source": [
    "def figura_sobreviventes_idade(df):\n",
    "    classe1 = df[df['Pclass'] == 1]\n",
    "    classe2 = df[df['Pclass'] == 2]\n",
    "    classe3 = df[df['Pclass'] == 3]\n",
    "    \n",
    "    figura = plt.figure(figsize=(30,10))\n",
    "    sns.displot(classe1, x='Age', col=\"Survived\", row=\"Pclass\", binwidth=4, height=4, facet_kws=dict(margin_titles=True),color='r',legend='Pclass')\n",
    "    plt.legend('1')\n",
    "    sns.displot(classe2, x='Age', col=\"Survived\", row=\"Pclass\",  binwidth=4, height=4, facet_kws=dict(margin_titles=True),color='g')\n",
    "    plt.legend('2')\n",
    "    sns.displot(classe3, x='Age', col=\"Survived\", row=\"Pclass\",  binwidth=4, height=4, facet_kws=dict(margin_titles=True),color='b')\n",
    "    plt.legend('3')\n",
    "    plt.show()"
   ]
  },
  {
   "cell_type": "code",
   "execution_count": 13,
   "id": "a2f07f7c-db47-4c2c-aabd-69c872e7d1bd",
   "metadata": {},
   "outputs": [
    {
     "data": {
      "text/plain": [
       "<Figure size 2160x720 with 0 Axes>"
      ]
     },
     "metadata": {},
     "output_type": "display_data"
    },
    {
     "data": {
      "image/png": "[encoded data removed]",
      "text/plain": [
       "<Figure size 576x288 with 2 Axes>"
      ]
     },
     "metadata": {},
     "output_type": "display_data"
    },
    {
     "data": {
      "image/png": "[encoded data removed]",
      "text/plain": [
       "<Figure size 576x288 with 2 Axes>"
      ]
     },
     "metadata": {},
     "output_type": "display_data"
    },
    {
     "data": {
      "image/png": "[encoded data removed]",
      "text/plain": [
       "<Figure size 576x288 with 2 Axes>"
      ]
     },
     "metadata": {},
     "output_type": "display_data"
    }
   ],
   "source": [
    "figura_sobreviventes_idade(treino)"
   ]
  },
  {
   "cell_type": "markdown",
   "id": "c89574ec-d72f-428e-b3e1-76c7d003bf4a",
   "metadata": {},
   "source": [
    "Nos gráficos acima, observamos que:\n",
    "* as crianças e adolescentes da classe 1 sobreviveram. \n",
    "* as crianças da classe 2 sobreviveram"
   ]
  },
  {
   "cell_type": "markdown",
   "id": "aa86066b-f62c-40c2-95f8-3ad22c3dea5e",
   "metadata": {},
   "source": [
    "### Como está a distribuição das classes por cabines? "
   ]
  },
  {
   "cell_type": "markdown",
   "id": "42d37e99-c0f6-4785-bd39-b0ea672a0285",
   "metadata": {},
   "source": [
    "Observamos que o identificador inicial da cabine é uma letra. Vamos usar esse identificador para tratar os valores nulos."
   ]
  },
  {
   "cell_type": "code",
   "execution_count": 14,
   "id": "f3052f06-990f-40e1-b6aa-aeea739f8ad8",
   "metadata": {},
   "outputs": [],
   "source": [
    "#Substituindo os valores nulos da coluna Cabin pela letra N (depois vamos tratar esses dados adequadamente)\n",
    "df['Cabin'].fillna('N', inplace=True)"
   ]
  },
  {
   "cell_type": "code",
   "execution_count": 15,
   "id": "1b204ea2-aa44-413c-b0d4-ee22bced3315",
   "metadata": {},
   "outputs": [],
   "source": [
    "#Criando o atributo de identificação das cabines\n",
    "tipo_cabine = []\n",
    "for cabine in df['Cabin']:\n",
    "    tipo_cabine.append(cabine[0])\n",
    "\n",
    "df['Cabin_Id'] = tipo_cabine"
   ]
  },
  {
   "cell_type": "code",
   "execution_count": 16,
   "id": "0223b4b7-067c-4f12-be44-c6bc32f5894b",
   "metadata": {},
   "outputs": [],
   "source": [
    "#Classificando os registros por identicador da Cabine\n",
    "grupo3 = df.groupby(['Pclass','Cabin_Id']).agg(Count=('Cabin_Id', 'count')) \n",
    "grupo3 = grupo3.reset_index()\n",
    "grupo31 = grupo3[grupo3['Cabin_Id'] != 'N']"
   ]
  },
  {
   "cell_type": "code",
   "execution_count": 17,
   "id": "e9883698-aa6f-43bf-9c0a-f5463e21adc5",
   "metadata": {},
   "outputs": [
    {
     "data": {
      "text/plain": [
       "<Figure size 720x720 with 0 Axes>"
      ]
     },
     "metadata": {},
     "output_type": "display_data"
    },
    {
     "data": {
      "image/png": "[encoded data removed]",
      "text/plain": [
       "<Figure size 864x288 with 3 Axes>"
      ]
     },
     "metadata": {},
     "output_type": "display_data"
    }
   ],
   "source": [
    "#Plotando os gráficos\n",
    "figura = plt.figure(figsize=(10,10))\n",
    "sns.displot(grupo31, x='Cabin_Id', col=\"Pclass\", weights='Count', binwidth=4, height=4, facet_kws=dict(margin_titles=True))\n",
    "plt.show()"
   ]
  },
  {
   "cell_type": "markdown",
   "id": "1217de8d-d353-4ccd-a17f-65c7694f01a9",
   "metadata": {},
   "source": [
    "Observamos que:\n",
    "* Os passageiros da Classe 1 estão distribuidos nas cabines: A, B, C, D, E e T\n",
    "* Os passageiros da Classe 2 estão distribuidos nas cabines: D, E e F\n",
    "* Os passageiros da Classe 3 estão distribuidos nas cabines: E, F e G"
   ]
  },
  {
   "cell_type": "markdown",
   "id": "2a25ce6b-5987-49e7-82b6-472b9e384288",
   "metadata": {},
   "source": [
    "### Cabine interferiu na sobrevivencia dos participantes da classe 3?"
   ]
  },
  {
   "cell_type": "code",
   "execution_count": 18,
   "id": "9167055d-c7cf-400e-9752-1e7eae1f650d",
   "metadata": {},
   "outputs": [],
   "source": [
    "filtro = df[df['Pclass'] == 3]\n",
    "grupo4 = filtro.groupby(['Survived','Cabin_Id',]).agg(Count=('Cabin_Id', 'count')) \n",
    "grupo4 = grupo4.reset_index()\n",
    "grupo41 = grupo4[grupo4['Cabin_Id'] != 'N']"
   ]
  },
  {
   "cell_type": "code",
   "execution_count": 19,
   "id": "bd75ca47-c18d-463e-8fe7-cb1c0a3d17f7",
   "metadata": {},
   "outputs": [
    {
     "data": {
      "text/plain": [
       "<Figure size 720x720 with 0 Axes>"
      ]
     },
     "metadata": {},
     "output_type": "display_data"
    },
    {
     "data": {
      "image/png": "[encoded data removed]",
      "text/plain": [
       "<Figure size 576x288 with 2 Axes>"
      ]
     },
     "metadata": {},
     "output_type": "display_data"
    }
   ],
   "source": [
    "figura = plt.figure(figsize=(10,10))\n",
    "sns.displot(grupo41, x='Cabin_Id', col=\"Survived\", weights='Count', binwidth=4, height=4, facet_kws=dict(margin_titles=True))\n",
    "plt.show()"
   ]
  },
  {
   "cell_type": "markdown",
   "id": "be3b867e-e94a-4374-aa3f-fe4bddecd8b9",
   "metadata": {},
   "source": [
    "Apesar da pouca quantidade de dados, podemos supor que as pessoas da classe 3 que estavam na cabine E sobreviveram."
   ]
  },
  {
   "cell_type": "markdown",
   "id": "a3885e4a-cdd5-448f-b40a-a744eff2fc93",
   "metadata": {},
   "source": [
    "### Qual é a variação dos preços do Ticket por Cabine? "
   ]
  },
  {
   "cell_type": "code",
   "execution_count": 20,
   "id": "14c411d9-caad-45fe-b751-ac72532e9164",
   "metadata": {},
   "outputs": [
    {
     "data": {
      "image/png": "[encoded data removed]",
      "text/plain": [
       "<Figure size 720x432 with 1 Axes>"
      ]
     },
     "metadata": {},
     "output_type": "display_data"
    }
   ],
   "source": [
    "plt.figure(figsize=(10,6))\n",
    "sns.boxplot(x=\"Cabin_Id\", y=\"Fare\", data = df[df['Cabin_Id']!='N'])\n",
    "plt.show()"
   ]
  },
  {
   "cell_type": "markdown",
   "id": "1d0f69ca-df41-4584-8621-9fffbc89f78a",
   "metadata": {},
   "source": [
    "Para limpeza de dados é razoável supormos que os passageiros das classes 2 e 3 cujo:\n",
    "* Fare > 25 estão na Cabine E\n",
    "* Fare entre (17 e 25) estão na Cabine F\n",
    "* Fare entre < 17 estão na Cabine G"
   ]
  },
  {
   "cell_type": "markdown",
   "id": "f9569e6f-45d0-4385-a4f1-e4e5ce876a83",
   "metadata": {},
   "source": [
    "## Limpeza dos dados"
   ]
  },
  {
   "cell_type": "markdown",
   "id": "2e2d0074-b014-457c-9019-fa07886871ef",
   "metadata": {},
   "source": [
    "### Idades nulas"
   ]
  },
  {
   "cell_type": "markdown",
   "id": "9a372576-4942-4b57-8064-f2819fb2a7a2",
   "metadata": {},
   "source": [
    "Vamos substituir a idade pela média do título de tratamento."
   ]
  },
  {
   "cell_type": "code",
   "execution_count": 21,
   "id": "e6576a03-c7f8-40cf-bc7c-5e1aa20ec805",
   "metadata": {},
   "outputs": [],
   "source": [
    "def idade_nula_por_titulo(df):\n",
    "    filtro = df[df['Age'].isnull()]\n",
    "    quantidade = filtro.groupby(['Title']).count()\n",
    "    return quantidade.index"
   ]
  },
  {
   "cell_type": "code",
   "execution_count": 22,
   "id": "67cc2273-17be-478b-9e43-e4e24d503a78",
   "metadata": {},
   "outputs": [
    {
     "data": {
      "text/plain": [
       "Index(['Dr.', 'Master.', 'Miss.', 'Mr.', 'Mrs.', 'Ms.'], dtype='object', name='Title')"
      ]
     },
     "execution_count": 22,
     "metadata": {},
     "output_type": "execute_result"
    }
   ],
   "source": [
    "#Retorna os títulos que possuem idade nula\n",
    "idade_nula_por_titulo(df)"
   ]
  },
  {
   "cell_type": "code",
   "execution_count": 23,
   "id": "04ef477c-f4aa-4804-b31e-e6fc5c7624d3",
   "metadata": {},
   "outputs": [
    {
     "data": {
      "text/html": [
       "<div>\n",
       "<style scoped>\n",
       "    .dataframe tbody tr th:only-of-type {\n",
       "        vertical-align: middle;\n",
       "    }\n",
       "\n",
       "    .dataframe tbody tr th {\n",
       "        vertical-align: top;\n",
       "    }\n",
       "\n",
       "    .dataframe thead th {\n",
       "        text-align: right;\n",
       "    }\n",
       "</style>\n",
       "<table border=\"1\" class=\"dataframe\">\n",
       "  <thead>\n",
       "    <tr style=\"text-align: right;\">\n",
       "      <th></th>\n",
       "      <th>Title</th>\n",
       "      <th>Median</th>\n",
       "    </tr>\n",
       "  </thead>\n",
       "  <tbody>\n",
       "    <tr>\n",
       "      <th>0</th>\n",
       "      <td>Capt.</td>\n",
       "      <td>70.0</td>\n",
       "    </tr>\n",
       "    <tr>\n",
       "      <th>1</th>\n",
       "      <td>Col.</td>\n",
       "      <td>54.5</td>\n",
       "    </tr>\n",
       "    <tr>\n",
       "      <th>2</th>\n",
       "      <td>Countess.</td>\n",
       "      <td>33.0</td>\n",
       "    </tr>\n",
       "    <tr>\n",
       "      <th>3</th>\n",
       "      <td>Don.</td>\n",
       "      <td>40.0</td>\n",
       "    </tr>\n",
       "    <tr>\n",
       "      <th>4</th>\n",
       "      <td>Dona.</td>\n",
       "      <td>39.0</td>\n",
       "    </tr>\n",
       "    <tr>\n",
       "      <th>5</th>\n",
       "      <td>Dr.</td>\n",
       "      <td>49.0</td>\n",
       "    </tr>\n",
       "    <tr>\n",
       "      <th>6</th>\n",
       "      <td>Jonkheer.</td>\n",
       "      <td>38.0</td>\n",
       "    </tr>\n",
       "    <tr>\n",
       "      <th>7</th>\n",
       "      <td>Lady.</td>\n",
       "      <td>48.0</td>\n",
       "    </tr>\n",
       "    <tr>\n",
       "      <th>8</th>\n",
       "      <td>Major.</td>\n",
       "      <td>48.5</td>\n",
       "    </tr>\n",
       "    <tr>\n",
       "      <th>9</th>\n",
       "      <td>Master.</td>\n",
       "      <td>4.0</td>\n",
       "    </tr>\n",
       "    <tr>\n",
       "      <th>10</th>\n",
       "      <td>Miss.</td>\n",
       "      <td>22.0</td>\n",
       "    </tr>\n",
       "    <tr>\n",
       "      <th>11</th>\n",
       "      <td>Mlle.</td>\n",
       "      <td>24.0</td>\n",
       "    </tr>\n",
       "    <tr>\n",
       "      <th>12</th>\n",
       "      <td>Mme.</td>\n",
       "      <td>24.0</td>\n",
       "    </tr>\n",
       "    <tr>\n",
       "      <th>13</th>\n",
       "      <td>Mr.</td>\n",
       "      <td>29.0</td>\n",
       "    </tr>\n",
       "    <tr>\n",
       "      <th>14</th>\n",
       "      <td>Mrs.</td>\n",
       "      <td>35.5</td>\n",
       "    </tr>\n",
       "    <tr>\n",
       "      <th>15</th>\n",
       "      <td>Ms.</td>\n",
       "      <td>28.0</td>\n",
       "    </tr>\n",
       "    <tr>\n",
       "      <th>16</th>\n",
       "      <td>Rev.</td>\n",
       "      <td>41.5</td>\n",
       "    </tr>\n",
       "    <tr>\n",
       "      <th>17</th>\n",
       "      <td>Sir.</td>\n",
       "      <td>49.0</td>\n",
       "    </tr>\n",
       "  </tbody>\n",
       "</table>\n",
       "</div>"
      ],
      "text/plain": [
       "        Title  Median\n",
       "0       Capt.    70.0\n",
       "1        Col.    54.5\n",
       "2   Countess.    33.0\n",
       "3        Don.    40.0\n",
       "4       Dona.    39.0\n",
       "5         Dr.    49.0\n",
       "6   Jonkheer.    38.0\n",
       "7       Lady.    48.0\n",
       "8      Major.    48.5\n",
       "9     Master.     4.0\n",
       "10      Miss.    22.0\n",
       "11      Mlle.    24.0\n",
       "12       Mme.    24.0\n",
       "13        Mr.    29.0\n",
       "14       Mrs.    35.5\n",
       "15        Ms.    28.0\n",
       "16       Rev.    41.5\n",
       "17       Sir.    49.0"
      ]
     },
     "execution_count": 23,
     "metadata": {},
     "output_type": "execute_result"
    }
   ],
   "source": [
    "#Média das idades por título\n",
    "medias_idade = df.groupby(['Title']).agg(Median=('Age', 'median')) \n",
    "medias_idade = medias_idade.reset_index()\n",
    "medias_idade"
   ]
  },
  {
   "cell_type": "code",
   "execution_count": 24,
   "id": "ea32f3dd-993b-4c9d-8137-a600d5bb909a",
   "metadata": {},
   "outputs": [],
   "source": [
    "def add_idade_nula(df):\n",
    "    Dr = df[df['Title']=='Dr.']\n",
    "    indicesDR = Dr[Dr['Age'].isnull() == True].index\n",
    "    \n",
    "    Master = df[df['Title']=='Master.']\n",
    "    indicesMaster = Master[Master['Age'].isnull() == True].index\n",
    "    \n",
    "    Miss = df[df['Title']=='Miss.']\n",
    "    indicesMiss = Miss[Miss['Age'].isnull() == True].index\n",
    "\n",
    "    Mr = df[df['Title']=='Mr.']\n",
    "    indicesMr = Mr[Mr['Age'].isnull() == True].index\n",
    "\n",
    "    Mrs = df[df['Title']=='Mrs.']\n",
    "    indicesMrs = Mrs[Mrs['Age'].isnull() == True].index\n",
    "\n",
    "    Ms = df[df['Title']=='Ms.']\n",
    "    indicesMs = Ms[Ms['Age'].isnull() == True].index\n",
    "\n",
    "    for indice in indicesDR:\n",
    "        df.at[indice,'Age'] = 49.0\n",
    "    \n",
    "    for indice in indicesMaster:\n",
    "        df.at[indice,'Age'] = 4.0\n",
    "    \n",
    "    for indice in indicesMiss:\n",
    "        df.at[indice,'Age'] = 22.0\n",
    "    \n",
    "    for indice in indicesMr:\n",
    "        df.at[indice,'Age'] = 29.0\n",
    "    \n",
    "    for indice in indicesMrs:\n",
    "        df.at[indice,'Age'] = 35.5\n",
    "        \n",
    "    for indice in indicesMs:\n",
    "        df.at[indice,'Age'] = 28.0"
   ]
  },
  {
   "cell_type": "code",
   "execution_count": 25,
   "id": "5337086e-3caf-41b3-ac58-6fd07812d400",
   "metadata": {},
   "outputs": [],
   "source": [
    "# Adiciona as idades nulas de acordo com o título\n",
    "add_idade_nula(df)"
   ]
  },
  {
   "cell_type": "markdown",
   "id": "5f37678a-e008-410a-b2e9-5af3a9bb73f8",
   "metadata": {},
   "source": [
    "### Cabines nulas"
   ]
  },
  {
   "cell_type": "code",
   "execution_count": 26,
   "id": "c236103d-5856-4bef-a5e1-1ff4d0ef8c27",
   "metadata": {},
   "outputs": [],
   "source": [
    "#Substituindo as cabines nulas da Classe 1 por C\n",
    "C1 = df[df['Pclass'] == 1]\n",
    "indicesC1 = C1[C1['Cabin_Id'] == 'N'].index\n",
    "\n",
    "for indice in indicesC1:\n",
    "    df.at[indice,'Cabin_Id'] = 'C'"
   ]
  },
  {
   "cell_type": "code",
   "execution_count": 27,
   "id": "af0c380f-26be-47ed-b104-554f3635278a",
   "metadata": {},
   "outputs": [],
   "source": [
    "#Substituindo as cabines nulas da Classe 2 pelo valor de Fare\n",
    "#Fare > 25 estão na Cabine E\n",
    "#Fare entre (17 e 25) estão na Cabine F\n",
    "#Fare entre < 17 estão na Cabine G\n",
    "\n",
    "C2 = df[df['Pclass'] == 2]\n",
    "indicesC2 = C2[C2['Cabin_Id'] == 'N'].index\n",
    "\n",
    "for indice in indicesC2:\n",
    "    if df.at[indice,'Fare'] > 25:\n",
    "        df.at[indice,'Cabin_Id'] = 'E'\n",
    "    else:\n",
    "        if df.at[indice,'Fare'] > 17:\n",
    "            df.at[indice,'Cabin_Id'] = 'F'\n",
    "        else:\n",
    "            df.at[indice,'Cabin_Id'] = 'G'"
   ]
  },
  {
   "cell_type": "code",
   "execution_count": 28,
   "id": "84feda90-165b-4982-8ee9-591abb6c86d2",
   "metadata": {},
   "outputs": [],
   "source": [
    "#Substituindo as cabines nulas da Classe 3 pelo valor de Fare\n",
    "#Fare > 25 estão na Cabine E\n",
    "#Fare entre (17 e 25) estão na Cabine F\n",
    "#Fare entre < 17 estão na Cabine G\n",
    "\n",
    "C2 = df[df['Pclass'] == 3]\n",
    "indicesC2 = C2[C2['Cabin_Id'] == 'N'].index\n",
    "\n",
    "for indice in indicesC2:\n",
    "    if df.at[indice,'Fare'] > 25:\n",
    "        df.at[indice,'Cabin_Id'] = 'E'\n",
    "    else:\n",
    "        if df.at[indice,'Fare'] > 17:\n",
    "            df.at[indice,'Cabin_Id'] = 'F'\n",
    "        else:\n",
    "            df.at[indice,'Cabin_Id'] = 'G'"
   ]
  },
  {
   "cell_type": "markdown",
   "id": "841c8f5a-ca88-4499-be04-857d998feff6",
   "metadata": {},
   "source": [
    "### Demais campos nulos"
   ]
  },
  {
   "cell_type": "markdown",
   "id": "d430407c-1189-4f73-9783-5625ec91987f",
   "metadata": {},
   "source": [
    "Nos demais atributos, vamos substituir o campos nulos pela maior ocorrência ou pela média"
   ]
  },
  {
   "cell_type": "code",
   "execution_count": 29,
   "id": "0c099341-6543-4c29-b44c-b3c47c7128de",
   "metadata": {},
   "outputs": [],
   "source": [
    "#Substituindo os valores nulos da coluna Embarked por S\n",
    "df['Embarked'].fillna('S',inplace=True)"
   ]
  },
  {
   "cell_type": "code",
   "execution_count": 30,
   "id": "ed82a9c3-dfd1-42e8-8591-682b5300b336",
   "metadata": {},
   "outputs": [],
   "source": [
    "#Substituindo os valores nulos da coluna Fare pela média\n",
    "media = df['Fare'].mean()\n",
    "df['Fare'].fillna(media,inplace=True)"
   ]
  },
  {
   "cell_type": "markdown",
   "id": "2c637e70-ba5f-4331-b1b8-14e31ad0aaaa",
   "metadata": {},
   "source": [
    "### Valores descrepantes de Fare"
   ]
  },
  {
   "cell_type": "markdown",
   "id": "2bab486b-8427-41c6-aae4-57822ca77b81",
   "metadata": {},
   "source": [
    "Valores descrepantes podem atrapalhar o desempenho de algoritmos de machine learning, deste modo vamos tratar esses dados."
   ]
  },
  {
   "cell_type": "code",
   "execution_count": 31,
   "id": "bebdc0bc-557e-4191-a8c3-98c12820dc3c",
   "metadata": {},
   "outputs": [
    {
     "data": {
      "image/png": "[encoded data removed]",
      "text/plain": [
       "<Figure size 1080x72 with 1 Axes>"
      ]
     },
     "metadata": {},
     "output_type": "display_data"
    }
   ],
   "source": [
    "atributos = ['Fare']\n",
    "plt.figure(figsize=(15,1))\n",
    "sns.set_theme(style=\"ticks\")\n",
    "sns.boxplot(data=df[atributos], orient='h')\n",
    "plt.show()"
   ]
  },
  {
   "cell_type": "code",
   "execution_count": 32,
   "id": "cdf4b2aa-b6ae-4a68-80e3-2e1093797107",
   "metadata": {},
   "outputs": [],
   "source": [
    "#Determinando os outliers do campo Fare\n",
    "Q1 = np.percentile(df['Fare'],25)\n",
    "Q3 = np.percentile(df['Fare'],75)\n",
    "AIQ = Q3 - Q1\n",
    "LI = Q1 - 1.5 * AIQ \n",
    "LS = Q3 + 1.5 * AIQ"
   ]
  },
  {
   "cell_type": "code",
   "execution_count": 33,
   "id": "a69b70ed-c6c4-4a39-b0aa-908d9d2563d2",
   "metadata": {},
   "outputs": [],
   "source": [
    "#Substituindo os outliers pelo limite superior\n",
    "conditionlist = [ (df['Fare'] <= LS), (df['Fare'] > LS) ]\n",
    "choicelist = [df['Fare'], LS]\n",
    "df['Fare'] = np.select(conditionlist, choicelist, default='Not Specified')"
   ]
  },
  {
   "cell_type": "markdown",
   "id": "57fccb6d-e153-4723-8a15-430a59f5ee79",
   "metadata": {},
   "source": [
    "## Conversão de dados"
   ]
  },
  {
   "cell_type": "code",
   "execution_count": 34,
   "id": "f89dbabc-9bc8-44f8-bc70-d92c5bd5ee43",
   "metadata": {},
   "outputs": [
    {
     "name": "stdout",
     "output_type": "stream",
     "text": [
      "<class 'pandas.core.frame.DataFrame'>\n",
      "RangeIndex: 1309 entries, 0 to 1308\n",
      "Data columns (total 14 columns):\n",
      " #   Column       Non-Null Count  Dtype  \n",
      "---  ------       --------------  -----  \n",
      " 0   PassengerId  1309 non-null   int64  \n",
      " 1   Survived     891 non-null    float64\n",
      " 2   Pclass       1309 non-null   int64  \n",
      " 3   Name         1309 non-null   object \n",
      " 4   Sex          1309 non-null   object \n",
      " 5   Age          1309 non-null   float64\n",
      " 6   SibSp        1309 non-null   int64  \n",
      " 7   Parch        1309 non-null   int64  \n",
      " 8   Ticket       1309 non-null   object \n",
      " 9   Fare         1309 non-null   object \n",
      " 10  Cabin        1309 non-null   object \n",
      " 11  Embarked     1309 non-null   object \n",
      " 12  Title        1309 non-null   object \n",
      " 13  Cabin_Id     1309 non-null   object \n",
      "dtypes: float64(2), int64(4), object(8)\n",
      "memory usage: 143.3+ KB\n"
     ]
    }
   ],
   "source": [
    "#Verificando se as colunas estão com tipo correto de dados\n",
    "df.info()"
   ]
  },
  {
   "cell_type": "code",
   "execution_count": 35,
   "id": "260772a6-5b11-41fc-b8f3-52c3862cf00d",
   "metadata": {},
   "outputs": [],
   "source": [
    "#Corrigindo o tipo da coluna Fare\n",
    "df['Fare'] = df['Fare'].astype(float)"
   ]
  },
  {
   "cell_type": "markdown",
   "id": "369b306e-4300-49ec-b294-5b99917a001e",
   "metadata": {},
   "source": [
    "### Convertendo dados categoricos em numéricos"
   ]
  },
  {
   "cell_type": "code",
   "execution_count": 36,
   "id": "06ac6404-9a30-4b39-ae00-f3cbceaa5477",
   "metadata": {},
   "outputs": [],
   "source": [
    "from sklearn.preprocessing import LabelEncoder"
   ]
  },
  {
   "cell_type": "code",
   "execution_count": 38,
   "id": "ef15acce-88fc-4b29-b2e5-576027648562",
   "metadata": {},
   "outputs": [],
   "source": [
    "conversao1 = LabelEncoder().fit_transform(df['Sex'])\n",
    "conversao2 = LabelEncoder().fit_transform(df['Embarked'])\n",
    "conversao3 = LabelEncoder().fit_transform(df['Cabin_Id'])\n",
    "conversao4 = LabelEncoder().fit_transform(df['Title'])\n",
    "df['Sex'] = conversao1\n",
    "df['Embarked'] = conversao2\n",
    "df['Cabin_Id'] = conversao3\n",
    "df['Title'] = conversao4"
   ]
  },
  {
   "cell_type": "markdown",
   "id": "50ab6411-e60f-49bf-8d3d-306c29beeb9b",
   "metadata": {},
   "source": [
    "## Verificando o conjunto de dados"
   ]
  },
  {
   "cell_type": "code",
   "execution_count": 39,
   "id": "057cedc5-228e-4785-af27-9da3e4470e3f",
   "metadata": {},
   "outputs": [
    {
     "data": {
      "text/html": [
       "<div>\n",
       "<style scoped>\n",
       "    .dataframe tbody tr th:only-of-type {\n",
       "        vertical-align: middle;\n",
       "    }\n",
       "\n",
       "    .dataframe tbody tr th {\n",
       "        vertical-align: top;\n",
       "    }\n",
       "\n",
       "    .dataframe thead th {\n",
       "        text-align: right;\n",
       "    }\n",
       "</style>\n",
       "<table border=\"1\" class=\"dataframe\">\n",
       "  <thead>\n",
       "    <tr style=\"text-align: right;\">\n",
       "      <th></th>\n",
       "      <th>PassengerId</th>\n",
       "      <th>Survived</th>\n",
       "      <th>Pclass</th>\n",
       "      <th>Name</th>\n",
       "      <th>Sex</th>\n",
       "      <th>Age</th>\n",
       "      <th>SibSp</th>\n",
       "      <th>Parch</th>\n",
       "      <th>Ticket</th>\n",
       "      <th>Fare</th>\n",
       "      <th>Cabin</th>\n",
       "      <th>Embarked</th>\n",
       "      <th>Title</th>\n",
       "      <th>Cabin_Id</th>\n",
       "    </tr>\n",
       "  </thead>\n",
       "  <tbody>\n",
       "    <tr>\n",
       "      <th>0</th>\n",
       "      <td>1</td>\n",
       "      <td>0.0</td>\n",
       "      <td>3</td>\n",
       "      <td>Braund, Mr. Owen Harris</td>\n",
       "      <td>1</td>\n",
       "      <td>22.0</td>\n",
       "      <td>1</td>\n",
       "      <td>0</td>\n",
       "      <td>A/5 21171</td>\n",
       "      <td>7.2500</td>\n",
       "      <td>N</td>\n",
       "      <td>2</td>\n",
       "      <td>13</td>\n",
       "      <td>6</td>\n",
       "    </tr>\n",
       "    <tr>\n",
       "      <th>1</th>\n",
       "      <td>2</td>\n",
       "      <td>1.0</td>\n",
       "      <td>1</td>\n",
       "      <td>Cumings, Mrs. John Bradley (Florence Briggs Th...</td>\n",
       "      <td>0</td>\n",
       "      <td>38.0</td>\n",
       "      <td>1</td>\n",
       "      <td>0</td>\n",
       "      <td>PC 17599</td>\n",
       "      <td>66.3438</td>\n",
       "      <td>C85</td>\n",
       "      <td>0</td>\n",
       "      <td>14</td>\n",
       "      <td>2</td>\n",
       "    </tr>\n",
       "    <tr>\n",
       "      <th>2</th>\n",
       "      <td>3</td>\n",
       "      <td>1.0</td>\n",
       "      <td>3</td>\n",
       "      <td>Heikkinen, Miss. Laina</td>\n",
       "      <td>0</td>\n",
       "      <td>26.0</td>\n",
       "      <td>0</td>\n",
       "      <td>0</td>\n",
       "      <td>STON/O2. 3101282</td>\n",
       "      <td>7.9250</td>\n",
       "      <td>N</td>\n",
       "      <td>2</td>\n",
       "      <td>10</td>\n",
       "      <td>6</td>\n",
       "    </tr>\n",
       "  </tbody>\n",
       "</table>\n",
       "</div>"
      ],
      "text/plain": [
       "   PassengerId  Survived  Pclass  \\\n",
       "0            1       0.0       3   \n",
       "1            2       1.0       1   \n",
       "2            3       1.0       3   \n",
       "\n",
       "                                                Name  Sex   Age  SibSp  Parch  \\\n",
       "0                            Braund, Mr. Owen Harris    1  22.0      1      0   \n",
       "1  Cumings, Mrs. John Bradley (Florence Briggs Th...    0  38.0      1      0   \n",
       "2                             Heikkinen, Miss. Laina    0  26.0      0      0   \n",
       "\n",
       "             Ticket     Fare Cabin  Embarked  Title  Cabin_Id  \n",
       "0         A/5 21171   7.2500     N         2     13         6  \n",
       "1          PC 17599  66.3438   C85         0     14         2  \n",
       "2  STON/O2. 3101282   7.9250     N         2     10         6  "
      ]
     },
     "execution_count": 39,
     "metadata": {},
     "output_type": "execute_result"
    }
   ],
   "source": [
    "df.head(3)"
   ]
  },
  {
   "cell_type": "code",
   "execution_count": 40,
   "id": "86c967b1-25f2-4c84-a889-1ada560d9631",
   "metadata": {},
   "outputs": [
    {
     "name": "stdout",
     "output_type": "stream",
     "text": [
      "<class 'pandas.core.frame.DataFrame'>\n",
      "RangeIndex: 1309 entries, 0 to 1308\n",
      "Data columns (total 14 columns):\n",
      " #   Column       Non-Null Count  Dtype  \n",
      "---  ------       --------------  -----  \n",
      " 0   PassengerId  1309 non-null   int64  \n",
      " 1   Survived     891 non-null    float64\n",
      " 2   Pclass       1309 non-null   int64  \n",
      " 3   Name         1309 non-null   object \n",
      " 4   Sex          1309 non-null   int32  \n",
      " 5   Age          1309 non-null   float64\n",
      " 6   SibSp        1309 non-null   int64  \n",
      " 7   Parch        1309 non-null   int64  \n",
      " 8   Ticket       1309 non-null   object \n",
      " 9   Fare         1309 non-null   float64\n",
      " 10  Cabin        1309 non-null   object \n",
      " 11  Embarked     1309 non-null   int32  \n",
      " 12  Title        1309 non-null   int32  \n",
      " 13  Cabin_Id     1309 non-null   int32  \n",
      "dtypes: float64(3), int32(4), int64(4), object(3)\n",
      "memory usage: 122.8+ KB\n"
     ]
    }
   ],
   "source": [
    "df.info()"
   ]
  },
  {
   "cell_type": "markdown",
   "id": "f6c71371-ec65-4df1-ab1d-fa1e092a656e",
   "metadata": {},
   "source": [
    "## Predição de dados"
   ]
  },
  {
   "cell_type": "code",
   "execution_count": 41,
   "id": "c8566a39-d268-4609-aa72-7898b1be38c4",
   "metadata": {},
   "outputs": [
    {
     "data": {
      "image/png": "[encoded data removed]",
      "text/plain": [
       "<Figure size 720x720 with 2 Axes>"
      ]
     },
     "metadata": {},
     "output_type": "display_data"
    }
   ],
   "source": [
    "#Verificando a correlação dos dados\n",
    "filtro = np.triu(np.ones_like(df.corr(),dtype=np.bool_))\n",
    "plt.figure(figsize=(10,10))\n",
    "sns.heatmap(df.corr(), mask=filtro, square=True,annot=True,vmin=-1,vmax=1)\n",
    "plt.show()"
   ]
  },
  {
   "cell_type": "code",
   "execution_count": 42,
   "id": "fdfd5501-ca0b-49bf-93b4-61fb68acb10a",
   "metadata": {},
   "outputs": [],
   "source": [
    "#Escolhendo os parametros X da predição:}\n",
    "parametros = ['Pclass','Sex','Age','Fare','Embarked','Title','Cabin_Id']"
   ]
  },
  {
   "cell_type": "code",
   "execution_count": 43,
   "id": "fd42f3e7-273b-4696-9330-a465fae9eba1",
   "metadata": {},
   "outputs": [],
   "source": [
    "#Informando o conjunto de treino e teste\n",
    "treino = pd.DataFrame(df[df['PassengerId'] <= 891])\n",
    "teste = pd.DataFrame(df[df['PassengerId'] > 891])"
   ]
  },
  {
   "cell_type": "code",
   "execution_count": 44,
   "id": "d2bc1171-0033-4512-ab5e-007ad99eb6e5",
   "metadata": {},
   "outputs": [],
   "source": [
    "#Informando as variáveis de predição (x) e a variável alvo (y) para os conjuntos de treino e teste\n",
    "X_treino = treino[parametros]\n",
    "y_treino = treino['Survived']\n",
    "\n",
    "X_teste = teste[parametros]"
   ]
  },
  {
   "cell_type": "code",
   "execution_count": 45,
   "id": "7a2d8e2f-6c21-4ab1-bbf8-b4221d33431c",
   "metadata": {},
   "outputs": [],
   "source": [
    "#Escolhendo o algoritmo\n",
    "from sklearn.ensemble import RandomForestClassifier\n",
    "modelo = RandomForestClassifier(n_estimators=42, random_state=1)"
   ]
  },
  {
   "cell_type": "code",
   "execution_count": 46,
   "id": "bef0a117-1f48-453d-90d6-920940270bd6",
   "metadata": {},
   "outputs": [
    {
     "data": {
      "text/plain": [
       "RandomForestClassifier(n_estimators=42, random_state=1)"
      ]
     },
     "execution_count": 46,
     "metadata": {},
     "output_type": "execute_result"
    }
   ],
   "source": [
    "#Treinando o modelo\n",
    "modelo.fit(X_treino, y_treino)"
   ]
  },
  {
   "cell_type": "code",
   "execution_count": 47,
   "id": "9dcbe117-9c89-4372-83ba-4de29fccdf8f",
   "metadata": {},
   "outputs": [
    {
     "name": "stdout",
     "output_type": "stream",
     "text": [
      "Acurácia no treino: 0.9776 \n"
     ]
    }
   ],
   "source": [
    "#Performace do modelo no treino\n",
    "from sklearn import metrics\n",
    "predicao_treino = modelo.predict(X_treino)\n",
    "print('Acurácia no treino: {0:.4f} '.format( metrics.accuracy_score(y_treino,predicao_treino )))"
   ]
  },
  {
   "cell_type": "code",
   "execution_count": 52,
   "id": "85918fb4-5f18-42c8-8702-34ec9cfbf432",
   "metadata": {},
   "outputs": [],
   "source": [
    "#Aplicando o modelo no teste\n",
    "predicao_teste = modelo.predict(X_teste).astype(int)"
   ]
  },
  {
   "cell_type": "code",
   "execution_count": 53,
   "id": "59604fc1-c4de-4106-b86a-478046662e18",
   "metadata": {},
   "outputs": [
    {
     "data": {
      "text/html": [
       "<div>\n",
       "<style scoped>\n",
       "    .dataframe tbody tr th:only-of-type {\n",
       "        vertical-align: middle;\n",
       "    }\n",
       "\n",
       "    .dataframe tbody tr th {\n",
       "        vertical-align: top;\n",
       "    }\n",
       "\n",
       "    .dataframe thead th {\n",
       "        text-align: right;\n",
       "    }\n",
       "</style>\n",
       "<table border=\"1\" class=\"dataframe\">\n",
       "  <thead>\n",
       "    <tr style=\"text-align: right;\">\n",
       "      <th></th>\n",
       "      <th>PassengerId</th>\n",
       "      <th>Survived</th>\n",
       "      <th>Pclass</th>\n",
       "      <th>Name</th>\n",
       "      <th>Sex</th>\n",
       "      <th>Age</th>\n",
       "      <th>SibSp</th>\n",
       "      <th>Parch</th>\n",
       "      <th>Ticket</th>\n",
       "      <th>Fare</th>\n",
       "      <th>Cabin</th>\n",
       "      <th>Embarked</th>\n",
       "      <th>Title</th>\n",
       "      <th>Cabin_Id</th>\n",
       "    </tr>\n",
       "  </thead>\n",
       "  <tbody>\n",
       "    <tr>\n",
       "      <th>891</th>\n",
       "      <td>892</td>\n",
       "      <td>0</td>\n",
       "      <td>3</td>\n",
       "      <td>Kelly, Mr. James</td>\n",
       "      <td>1</td>\n",
       "      <td>34.5</td>\n",
       "      <td>0</td>\n",
       "      <td>0</td>\n",
       "      <td>330911</td>\n",
       "      <td>7.8292</td>\n",
       "      <td>N</td>\n",
       "      <td>1</td>\n",
       "      <td>13</td>\n",
       "      <td>6</td>\n",
       "    </tr>\n",
       "    <tr>\n",
       "      <th>892</th>\n",
       "      <td>893</td>\n",
       "      <td>0</td>\n",
       "      <td>3</td>\n",
       "      <td>Wilkes, Mrs. James (Ellen Needs)</td>\n",
       "      <td>0</td>\n",
       "      <td>47.0</td>\n",
       "      <td>1</td>\n",
       "      <td>0</td>\n",
       "      <td>363272</td>\n",
       "      <td>7.0000</td>\n",
       "      <td>N</td>\n",
       "      <td>2</td>\n",
       "      <td>14</td>\n",
       "      <td>6</td>\n",
       "    </tr>\n",
       "    <tr>\n",
       "      <th>893</th>\n",
       "      <td>894</td>\n",
       "      <td>0</td>\n",
       "      <td>2</td>\n",
       "      <td>Myles, Mr. Thomas Francis</td>\n",
       "      <td>1</td>\n",
       "      <td>62.0</td>\n",
       "      <td>0</td>\n",
       "      <td>0</td>\n",
       "      <td>240276</td>\n",
       "      <td>9.6875</td>\n",
       "      <td>N</td>\n",
       "      <td>1</td>\n",
       "      <td>13</td>\n",
       "      <td>6</td>\n",
       "    </tr>\n",
       "    <tr>\n",
       "      <th>894</th>\n",
       "      <td>895</td>\n",
       "      <td>1</td>\n",
       "      <td>3</td>\n",
       "      <td>Wirz, Mr. Albert</td>\n",
       "      <td>1</td>\n",
       "      <td>27.0</td>\n",
       "      <td>0</td>\n",
       "      <td>0</td>\n",
       "      <td>315154</td>\n",
       "      <td>8.6625</td>\n",
       "      <td>N</td>\n",
       "      <td>2</td>\n",
       "      <td>13</td>\n",
       "      <td>6</td>\n",
       "    </tr>\n",
       "    <tr>\n",
       "      <th>895</th>\n",
       "      <td>896</td>\n",
       "      <td>1</td>\n",
       "      <td>3</td>\n",
       "      <td>Hirvonen, Mrs. Alexander (Helga E Lindqvist)</td>\n",
       "      <td>0</td>\n",
       "      <td>22.0</td>\n",
       "      <td>1</td>\n",
       "      <td>1</td>\n",
       "      <td>3101298</td>\n",
       "      <td>12.2875</td>\n",
       "      <td>N</td>\n",
       "      <td>2</td>\n",
       "      <td>14</td>\n",
       "      <td>6</td>\n",
       "    </tr>\n",
       "    <tr>\n",
       "      <th>...</th>\n",
       "      <td>...</td>\n",
       "      <td>...</td>\n",
       "      <td>...</td>\n",
       "      <td>...</td>\n",
       "      <td>...</td>\n",
       "      <td>...</td>\n",
       "      <td>...</td>\n",
       "      <td>...</td>\n",
       "      <td>...</td>\n",
       "      <td>...</td>\n",
       "      <td>...</td>\n",
       "      <td>...</td>\n",
       "      <td>...</td>\n",
       "      <td>...</td>\n",
       "    </tr>\n",
       "    <tr>\n",
       "      <th>1304</th>\n",
       "      <td>1305</td>\n",
       "      <td>0</td>\n",
       "      <td>3</td>\n",
       "      <td>Spector, Mr. Woolf</td>\n",
       "      <td>1</td>\n",
       "      <td>29.0</td>\n",
       "      <td>0</td>\n",
       "      <td>0</td>\n",
       "      <td>A.5. 3236</td>\n",
       "      <td>8.0500</td>\n",
       "      <td>N</td>\n",
       "      <td>2</td>\n",
       "      <td>13</td>\n",
       "      <td>6</td>\n",
       "    </tr>\n",
       "    <tr>\n",
       "      <th>1305</th>\n",
       "      <td>1306</td>\n",
       "      <td>1</td>\n",
       "      <td>1</td>\n",
       "      <td>Oliva y Ocana, Dona. Fermina</td>\n",
       "      <td>0</td>\n",
       "      <td>39.0</td>\n",
       "      <td>0</td>\n",
       "      <td>0</td>\n",
       "      <td>PC 17758</td>\n",
       "      <td>66.3438</td>\n",
       "      <td>C105</td>\n",
       "      <td>0</td>\n",
       "      <td>4</td>\n",
       "      <td>2</td>\n",
       "    </tr>\n",
       "    <tr>\n",
       "      <th>1306</th>\n",
       "      <td>1307</td>\n",
       "      <td>0</td>\n",
       "      <td>3</td>\n",
       "      <td>Saether, Mr. Simon Sivertsen</td>\n",
       "      <td>1</td>\n",
       "      <td>38.5</td>\n",
       "      <td>0</td>\n",
       "      <td>0</td>\n",
       "      <td>SOTON/O.Q. 3101262</td>\n",
       "      <td>7.2500</td>\n",
       "      <td>N</td>\n",
       "      <td>2</td>\n",
       "      <td>13</td>\n",
       "      <td>6</td>\n",
       "    </tr>\n",
       "    <tr>\n",
       "      <th>1307</th>\n",
       "      <td>1308</td>\n",
       "      <td>0</td>\n",
       "      <td>3</td>\n",
       "      <td>Ware, Mr. Frederick</td>\n",
       "      <td>1</td>\n",
       "      <td>29.0</td>\n",
       "      <td>0</td>\n",
       "      <td>0</td>\n",
       "      <td>359309</td>\n",
       "      <td>8.0500</td>\n",
       "      <td>N</td>\n",
       "      <td>2</td>\n",
       "      <td>13</td>\n",
       "      <td>6</td>\n",
       "    </tr>\n",
       "    <tr>\n",
       "      <th>1308</th>\n",
       "      <td>1309</td>\n",
       "      <td>0</td>\n",
       "      <td>3</td>\n",
       "      <td>Peter, Master. Michael J</td>\n",
       "      <td>1</td>\n",
       "      <td>4.0</td>\n",
       "      <td>1</td>\n",
       "      <td>1</td>\n",
       "      <td>2668</td>\n",
       "      <td>22.3583</td>\n",
       "      <td>N</td>\n",
       "      <td>0</td>\n",
       "      <td>9</td>\n",
       "      <td>5</td>\n",
       "    </tr>\n",
       "  </tbody>\n",
       "</table>\n",
       "<p>418 rows × 14 columns</p>\n",
       "</div>"
      ],
      "text/plain": [
       "      PassengerId  Survived  Pclass  \\\n",
       "891           892         0       3   \n",
       "892           893         0       3   \n",
       "893           894         0       2   \n",
       "894           895         1       3   \n",
       "895           896         1       3   \n",
       "...           ...       ...     ...   \n",
       "1304         1305         0       3   \n",
       "1305         1306         1       1   \n",
       "1306         1307         0       3   \n",
       "1307         1308         0       3   \n",
       "1308         1309         0       3   \n",
       "\n",
       "                                              Name  Sex   Age  SibSp  Parch  \\\n",
       "891                               Kelly, Mr. James    1  34.5      0      0   \n",
       "892               Wilkes, Mrs. James (Ellen Needs)    0  47.0      1      0   \n",
       "893                      Myles, Mr. Thomas Francis    1  62.0      0      0   \n",
       "894                               Wirz, Mr. Albert    1  27.0      0      0   \n",
       "895   Hirvonen, Mrs. Alexander (Helga E Lindqvist)    0  22.0      1      1   \n",
       "...                                            ...  ...   ...    ...    ...   \n",
       "1304                            Spector, Mr. Woolf    1  29.0      0      0   \n",
       "1305                  Oliva y Ocana, Dona. Fermina    0  39.0      0      0   \n",
       "1306                  Saether, Mr. Simon Sivertsen    1  38.5      0      0   \n",
       "1307                           Ware, Mr. Frederick    1  29.0      0      0   \n",
       "1308                      Peter, Master. Michael J    1   4.0      1      1   \n",
       "\n",
       "                  Ticket     Fare Cabin  Embarked  Title  Cabin_Id  \n",
       "891               330911   7.8292     N         1     13         6  \n",
       "892               363272   7.0000     N         2     14         6  \n",
       "893               240276   9.6875     N         1     13         6  \n",
       "894               315154   8.6625     N         2     13         6  \n",
       "895              3101298  12.2875     N         2     14         6  \n",
       "...                  ...      ...   ...       ...    ...       ...  \n",
       "1304           A.5. 3236   8.0500     N         2     13         6  \n",
       "1305            PC 17758  66.3438  C105         0      4         2  \n",
       "1306  SOTON/O.Q. 3101262   7.2500     N         2     13         6  \n",
       "1307              359309   8.0500     N         2     13         6  \n",
       "1308                2668  22.3583     N         0      9         5  \n",
       "\n",
       "[418 rows x 14 columns]"
      ]
     },
     "execution_count": 53,
     "metadata": {},
     "output_type": "execute_result"
    }
   ],
   "source": [
    "#Inserindo a predição no teste\n",
    "teste['Survived']=predicao_teste\n",
    "teste"
   ]
  },
  {
   "cell_type": "markdown",
   "id": "a08f19e0-dad1-4e6b-93d9-829777a372f8",
   "metadata": {},
   "source": [
    "## Vizualizando os resultados"
   ]
  },
  {
   "cell_type": "code",
   "execution_count": 56,
   "id": "ae73a3d0-2ca1-4068-9c6c-ca2692ef3bf0",
   "metadata": {},
   "outputs": [
    {
     "data": {
      "image/png": "[encoded data removed]",
      "text/plain": [
       "<Figure size 1008x504 with 2 Axes>"
      ]
     },
     "metadata": {},
     "output_type": "display_data"
    }
   ],
   "source": [
    "figura_sobrevivente_sexo_classe(teste)"
   ]
  },
  {
   "cell_type": "code",
   "execution_count": 57,
   "id": "88de8279-ed0b-4068-b223-1d544f11f01f",
   "metadata": {},
   "outputs": [
    {
     "data": {
      "text/plain": [
       "<Figure size 2160x720 with 0 Axes>"
      ]
     },
     "metadata": {},
     "output_type": "display_data"
    },
    {
     "data": {
      "image/png": "[encoded data removed]",
      "text/plain": [
       "<Figure size 576x288 with 2 Axes>"
      ]
     },
     "metadata": {},
     "output_type": "display_data"
    },
    {
     "data": {
      "image/png": "[encoded data removed]",
      "text/plain": [
       "<Figure size 576x288 with 2 Axes>"
      ]
     },
     "metadata": {},
     "output_type": "display_data"
    },
    {
     "data": {
      "image/png": "[encoded data removed]",
      "text/plain": [
       "<Figure size 576x288 with 2 Axes>"
      ]
     },
     "metadata": {},
     "output_type": "display_data"
    }
   ],
   "source": [
    "figura_sobreviventes_idade(teste)"
   ]
  },
  {
   "cell_type": "code",
   "execution_count": 58,
   "id": "24fbf1db-fd53-4c2d-ac89-be4110613963",
   "metadata": {},
   "outputs": [],
   "source": [
    "#Salvando o resultado\n",
    "resultado = teste[['PassengerId','Survived']]\n",
    "resultado.astype(int)\n",
    "resultado.to_csv('resultado',index=False)"
   ]
  },
  {
   "cell_type": "markdown",
   "id": "f2574c0e-946f-418e-840b-8a2d76592c5e",
   "metadata": {},
   "source": [
    "## Conclusão"
   ]
  },
  {
   "cell_type": "markdown",
   "id": "2470be6a-caed-497f-a999-3a18f249aa6b",
   "metadata": {},
   "source": [
    "Este trabalho resultou numa acurácia de 74.4% com dados de teste na plataforma Kaggle. O resultado deve ser melhorado. \n",
    "Para isso, precisamos:\n",
    "* Identificar de forma mais adequada os sobreviventes homens\n",
    "* Trabalhar nas colunas SibSp e "
   ]
  }
 ],
 "metadata": {
  "kernelspec": {
   "display_name": "Python 3",
   "language": "python",
   "name": "python3"
  },
  "language_info": {
   "codemirror_mode": {
    "name": "ipython",
    "version": 3
   },
   "file_extension": ".py",
   "mimetype": "text/x-python",
   "name": "python",
   "nbconvert_exporter": "python",
   "pygments_lexer": "ipython3",
   "version": "3.8.8"
  }
 },
 "nbformat": 4,
 "nbformat_minor": 5
}
