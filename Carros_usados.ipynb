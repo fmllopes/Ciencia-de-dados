{
 "cells": [
  {
   "cell_type": "markdown",
   "metadata": {
    "id": "I8X5LWgkwEiC"
   },
   "source": [
    "# Carros usados no Ebay"
   ]
  },
  {
   "cell_type": "markdown",
   "metadata": {
    "id": "E2SDHonFwJX7"
   },
   "source": [
    "O conjunto de dados é referente a anúncios de vendas de carros usados na Alemanha pela plataforma Ebay em 2016 e está disponível para acesso em: https://data.world/data-society/used-cars-data. \n",
    "\n",
    "O objetivo desse projeto é fazer limpeza nos dados e apresentar informações estatísticas sobre a distribuição dos dados.\n",
    "\n",
    "\n"
   ]
  },
  {
   "cell_type": "markdown",
   "metadata": {},
   "source": [
    "## Conhecendo o conjunto de dados"
   ]
  },
  {
   "cell_type": "code",
   "execution_count": 1,
   "metadata": {
    "id": "9UW_jXyWv-YR"
   },
   "outputs": [],
   "source": [
    "#Importando as bibliotecas\n",
    "import numpy as np\n",
    "import pandas as pd\n",
    "import matplotlib.pyplot as plt\n",
    "import seaborn as sns"
   ]
  },
  {
   "cell_type": "code",
   "execution_count": 2,
   "metadata": {
    "id": "L19IFXyr1SPc"
   },
   "outputs": [
    {
     "name": "stdout",
     "output_type": "stream",
     "text": [
      "<class 'pandas.core.frame.DataFrame'>\n",
      "RangeIndex: 371528 entries, 0 to 371527\n",
      "Data columns (total 20 columns):\n",
      " #   Column               Non-Null Count   Dtype \n",
      "---  ------               --------------   ----- \n",
      " 0   dateCrawled          371528 non-null  object\n",
      " 1   name                 371528 non-null  object\n",
      " 2   seller               371528 non-null  object\n",
      " 3   offerType            371528 non-null  object\n",
      " 4   price                371528 non-null  int64 \n",
      " 5   abtest               371528 non-null  object\n",
      " 6   vehicleType          333659 non-null  object\n",
      " 7   yearOfRegistration   371528 non-null  int64 \n",
      " 8   gearbox              351319 non-null  object\n",
      " 9   powerPS              371528 non-null  int64 \n",
      " 10  model                351044 non-null  object\n",
      " 11  kilometer            371528 non-null  int64 \n",
      " 12  monthOfRegistration  371528 non-null  int64 \n",
      " 13  fuelType             338142 non-null  object\n",
      " 14  brand                371528 non-null  object\n",
      " 15  notRepairedDamage    299468 non-null  object\n",
      " 16  dateCreated          371528 non-null  object\n",
      " 17  nrOfPictures         371528 non-null  int64 \n",
      " 18  postalCode           371528 non-null  int64 \n",
      " 19  lastSeen             371528 non-null  object\n",
      "dtypes: int64(7), object(13)\n",
      "memory usage: 56.7+ MB\n"
     ]
    }
   ],
   "source": [
    "#Carregando o conjunto de dados em um dataframe e mostrando as informações\n",
    "df = pd.read_csv('autos.csv')\n",
    "df.info()"
   ]
  },
  {
   "cell_type": "markdown",
   "metadata": {},
   "source": [
    "Observamos que este conjunto de dados possui mais de 370 mil registros e 20 atributos que significam:\n",
    "* `dateCrawled`: quando este anúncio foi rastreado pela primeira vez\n",
    "* `name`: nome do carro\n",
    "* `seller`: tipo de vendedor (privado ou comercial)\n",
    "* `offerType`: tipo de oferta\n",
    "* `price`: preço do veículo\n",
    "* `abtest`: se a listagem está incluída em um teste A/B\n",
    "* `vehicleType`: tipo do veículo\n",
    "* `yearOfRegistration`: ano de registro\n",
    "* `gearbox`: cambio\n",
    "* `powerPS`: potência\n",
    "* `model`: modelo\n",
    "* `kilometer`: quilometragem percorrida\n",
    "* `monthOfRegistration`: mês de registro\n",
    "* `fuelType`: tipo de combustível\n",
    "* `brand`: marca \n",
    "* `notRepairedDamage`: Dano não reparado\n",
    "* `dateCreated`: A data em que a listagem do eBay foi criada\n",
    "* `nrOfPictures`: Número de imagens no anúncio\n",
    "* `postalCode`: Código postal do anúncio\n",
    "* `lastSeen`: Última vizualização do anúncio"
   ]
  },
  {
   "cell_type": "markdown",
   "metadata": {},
   "source": [
    "## Tratamento inicial dos dados"
   ]
  },
  {
   "cell_type": "markdown",
   "metadata": {},
   "source": [
    "Nesta etapa, vamos realizar uma limpeza nos dados, incluindo tratamento dos registros nulos e duplicados, padronização dos nomes e tipos dos atributos."
   ]
  },
  {
   "cell_type": "markdown",
   "metadata": {},
   "source": [
    "### Atributos"
   ]
  },
  {
   "cell_type": "markdown",
   "metadata": {},
   "source": [
    "Vamos padronizar os nomes dos atributos para facilitar a utilização durante o projeto e converter os dados para o tipo correto e eliminar os atributos que não são relevantes para este estudo."
   ]
  },
  {
   "cell_type": "code",
   "execution_count": 3,
   "metadata": {},
   "outputs": [],
   "source": [
    "#Mudando os nomes das colunas\n",
    "df.rename(columns={'dateCrawled': 'ad_crawler', 'offerType':'offer_type','vehicleType': 'vehicle_type',\\\n",
    "                   'yearOfRegistration':'registration_year', 'monthOfRegistration': 'registration_month',\\\n",
    "                   'fuelType': 'fuel_type', 'notRepairedDamage':'unrepaired_damage',\\\n",
    "                   'dateCreated': 'date_create', 'nrOfPictures' : 'num_of_pictures',\\\n",
    "                   'postalCode':'postal_code', 'lastSeen':'last_seen'}, inplace = True)"
   ]
  },
  {
   "cell_type": "code",
   "execution_count": 4,
   "metadata": {},
   "outputs": [
    {
     "data": {
      "text/html": [
       "<div>\n",
       "<style scoped>\n",
       "    .dataframe tbody tr th:only-of-type {\n",
       "        vertical-align: middle;\n",
       "    }\n",
       "\n",
       "    .dataframe tbody tr th {\n",
       "        vertical-align: top;\n",
       "    }\n",
       "\n",
       "    .dataframe thead th {\n",
       "        text-align: right;\n",
       "    }\n",
       "</style>\n",
       "<table border=\"1\" class=\"dataframe\">\n",
       "  <thead>\n",
       "    <tr style=\"text-align: right;\">\n",
       "      <th></th>\n",
       "      <th>ad_crawler</th>\n",
       "      <th>name</th>\n",
       "      <th>seller</th>\n",
       "      <th>offer_type</th>\n",
       "      <th>price</th>\n",
       "      <th>abtest</th>\n",
       "      <th>vehicle_type</th>\n",
       "      <th>registration_year</th>\n",
       "      <th>gearbox</th>\n",
       "      <th>powerPS</th>\n",
       "      <th>model</th>\n",
       "      <th>kilometer</th>\n",
       "      <th>registration_month</th>\n",
       "      <th>fuel_type</th>\n",
       "      <th>brand</th>\n",
       "      <th>unrepaired_damage</th>\n",
       "      <th>date_create</th>\n",
       "      <th>num_of_pictures</th>\n",
       "      <th>postal_code</th>\n",
       "      <th>last_seen</th>\n",
       "    </tr>\n",
       "  </thead>\n",
       "  <tbody>\n",
       "    <tr>\n",
       "      <th>0</th>\n",
       "      <td>2016-03-24 11:52:17</td>\n",
       "      <td>Golf_3_1.6</td>\n",
       "      <td>privat</td>\n",
       "      <td>Angebot</td>\n",
       "      <td>480</td>\n",
       "      <td>test</td>\n",
       "      <td>NaN</td>\n",
       "      <td>1993</td>\n",
       "      <td>manuell</td>\n",
       "      <td>0</td>\n",
       "      <td>golf</td>\n",
       "      <td>150000</td>\n",
       "      <td>0</td>\n",
       "      <td>benzin</td>\n",
       "      <td>volkswagen</td>\n",
       "      <td>NaN</td>\n",
       "      <td>2016-03-24</td>\n",
       "      <td>0</td>\n",
       "      <td>70435</td>\n",
       "      <td>2016-04-07 03:16:57</td>\n",
       "    </tr>\n",
       "    <tr>\n",
       "      <th>1</th>\n",
       "      <td>2016-03-24 10:58:45</td>\n",
       "      <td>A5_Sportback_2.7_Tdi</td>\n",
       "      <td>privat</td>\n",
       "      <td>Angebot</td>\n",
       "      <td>18300</td>\n",
       "      <td>test</td>\n",
       "      <td>coupe</td>\n",
       "      <td>2011</td>\n",
       "      <td>manuell</td>\n",
       "      <td>190</td>\n",
       "      <td>NaN</td>\n",
       "      <td>125000</td>\n",
       "      <td>5</td>\n",
       "      <td>diesel</td>\n",
       "      <td>audi</td>\n",
       "      <td>ja</td>\n",
       "      <td>2016-03-24</td>\n",
       "      <td>0</td>\n",
       "      <td>66954</td>\n",
       "      <td>2016-04-07 01:46:50</td>\n",
       "    </tr>\n",
       "    <tr>\n",
       "      <th>2</th>\n",
       "      <td>2016-03-14 12:52:21</td>\n",
       "      <td>Jeep_Grand_Cherokee_\"Overland\"</td>\n",
       "      <td>privat</td>\n",
       "      <td>Angebot</td>\n",
       "      <td>9800</td>\n",
       "      <td>test</td>\n",
       "      <td>suv</td>\n",
       "      <td>2004</td>\n",
       "      <td>automatik</td>\n",
       "      <td>163</td>\n",
       "      <td>grand</td>\n",
       "      <td>125000</td>\n",
       "      <td>8</td>\n",
       "      <td>diesel</td>\n",
       "      <td>jeep</td>\n",
       "      <td>NaN</td>\n",
       "      <td>2016-03-14</td>\n",
       "      <td>0</td>\n",
       "      <td>90480</td>\n",
       "      <td>2016-04-05 12:47:46</td>\n",
       "    </tr>\n",
       "  </tbody>\n",
       "</table>\n",
       "</div>"
      ],
      "text/plain": [
       "           ad_crawler                            name  seller offer_type  \\\n",
       "0 2016-03-24 11:52:17                      Golf_3_1.6  privat    Angebot   \n",
       "1 2016-03-24 10:58:45            A5_Sportback_2.7_Tdi  privat    Angebot   \n",
       "2 2016-03-14 12:52:21  Jeep_Grand_Cherokee_\"Overland\"  privat    Angebot   \n",
       "\n",
       "   price abtest vehicle_type  registration_year    gearbox  powerPS  model  \\\n",
       "0    480   test          NaN               1993    manuell        0   golf   \n",
       "1  18300   test        coupe               2011    manuell      190    NaN   \n",
       "2   9800   test          suv               2004  automatik      163  grand   \n",
       "\n",
       "   kilometer  registration_month fuel_type       brand unrepaired_damage  \\\n",
       "0     150000                   0    benzin  volkswagen               NaN   \n",
       "1     125000                   5    diesel        audi                ja   \n",
       "2     125000                   8    diesel        jeep               NaN   \n",
       "\n",
       "  date_create  num_of_pictures  postal_code           last_seen  \n",
       "0  2016-03-24                0        70435 2016-04-07 03:16:57  \n",
       "1  2016-03-24                0        66954 2016-04-07 01:46:50  \n",
       "2  2016-03-14                0        90480 2016-04-05 12:47:46  "
      ]
     },
     "execution_count": 4,
     "metadata": {},
     "output_type": "execute_result"
    }
   ],
   "source": [
    "#Convertando os dados para o tipo data\n",
    "df['ad_crawler'] = pd.to_datetime(df['ad_crawler'])\n",
    "df['date_create'] = pd.to_datetime(df['date_create'])\n",
    "df['last_seen'] = pd.to_datetime(df['last_seen'])\n",
    "\n",
    "df.head(3)"
   ]
  },
  {
   "cell_type": "code",
   "execution_count": 5,
   "metadata": {},
   "outputs": [
    {
     "data": {
      "text/html": [
       "<div>\n",
       "<style scoped>\n",
       "    .dataframe tbody tr th:only-of-type {\n",
       "        vertical-align: middle;\n",
       "    }\n",
       "\n",
       "    .dataframe tbody tr th {\n",
       "        vertical-align: top;\n",
       "    }\n",
       "\n",
       "    .dataframe thead th {\n",
       "        text-align: right;\n",
       "    }\n",
       "</style>\n",
       "<table border=\"1\" class=\"dataframe\">\n",
       "  <thead>\n",
       "    <tr style=\"text-align: right;\">\n",
       "      <th></th>\n",
       "      <th>name</th>\n",
       "      <th>seller</th>\n",
       "      <th>offer_type</th>\n",
       "      <th>abtest</th>\n",
       "      <th>vehicle_type</th>\n",
       "      <th>gearbox</th>\n",
       "      <th>model</th>\n",
       "      <th>fuel_type</th>\n",
       "      <th>brand</th>\n",
       "      <th>unrepaired_damage</th>\n",
       "    </tr>\n",
       "  </thead>\n",
       "  <tbody>\n",
       "    <tr>\n",
       "      <th>count</th>\n",
       "      <td>371528</td>\n",
       "      <td>371528</td>\n",
       "      <td>371528</td>\n",
       "      <td>371528</td>\n",
       "      <td>333659</td>\n",
       "      <td>351319</td>\n",
       "      <td>351044</td>\n",
       "      <td>338142</td>\n",
       "      <td>371528</td>\n",
       "      <td>299468</td>\n",
       "    </tr>\n",
       "    <tr>\n",
       "      <th>unique</th>\n",
       "      <td>233528</td>\n",
       "      <td>2</td>\n",
       "      <td>2</td>\n",
       "      <td>2</td>\n",
       "      <td>8</td>\n",
       "      <td>2</td>\n",
       "      <td>251</td>\n",
       "      <td>7</td>\n",
       "      <td>40</td>\n",
       "      <td>2</td>\n",
       "    </tr>\n",
       "    <tr>\n",
       "      <th>top</th>\n",
       "      <td>Ford_Fiesta</td>\n",
       "      <td>privat</td>\n",
       "      <td>Angebot</td>\n",
       "      <td>test</td>\n",
       "      <td>limousine</td>\n",
       "      <td>manuell</td>\n",
       "      <td>golf</td>\n",
       "      <td>benzin</td>\n",
       "      <td>volkswagen</td>\n",
       "      <td>nein</td>\n",
       "    </tr>\n",
       "    <tr>\n",
       "      <th>freq</th>\n",
       "      <td>657</td>\n",
       "      <td>371525</td>\n",
       "      <td>371516</td>\n",
       "      <td>192585</td>\n",
       "      <td>95894</td>\n",
       "      <td>274214</td>\n",
       "      <td>30070</td>\n",
       "      <td>223857</td>\n",
       "      <td>79640</td>\n",
       "      <td>263182</td>\n",
       "    </tr>\n",
       "  </tbody>\n",
       "</table>\n",
       "</div>"
      ],
      "text/plain": [
       "               name  seller offer_type  abtest vehicle_type  gearbox   model  \\\n",
       "count        371528  371528     371528  371528       333659   351319  351044   \n",
       "unique       233528       2          2       2            8        2     251   \n",
       "top     Ford_Fiesta  privat    Angebot    test    limousine  manuell    golf   \n",
       "freq            657  371525     371516  192585        95894   274214   30070   \n",
       "\n",
       "       fuel_type       brand unrepaired_damage  \n",
       "count     338142      371528            299468  \n",
       "unique         7          40                 2  \n",
       "top       benzin  volkswagen              nein  \n",
       "freq      223857       79640            263182  "
      ]
     },
     "execution_count": 5,
     "metadata": {},
     "output_type": "execute_result"
    }
   ],
   "source": [
    "#Descrição dos atributos categóricos\n",
    "df.describe(include = np.object0)"
   ]
  },
  {
   "cell_type": "markdown",
   "metadata": {},
   "source": [
    "Observamos que os atributos `seller`, `offer_type` e `abtest` possuem apenas dois tipos únicos e não interferem na tomada de decisão do projeto. Vamos, assim, retirar essas colunas."
   ]
  },
  {
   "cell_type": "code",
   "execution_count": 6,
   "metadata": {},
   "outputs": [],
   "source": [
    "del df['seller']\n",
    "del df['offer_type']\n",
    "del df['abtest']"
   ]
  },
  {
   "cell_type": "markdown",
   "metadata": {},
   "source": [
    "### Registros"
   ]
  },
  {
   "cell_type": "markdown",
   "metadata": {},
   "source": [
    "Nesta etapa, vamos tratar os registros nulos e duplicados, caso existam."
   ]
  },
  {
   "cell_type": "code",
   "execution_count": 7,
   "metadata": {},
   "outputs": [
    {
     "data": {
      "text/plain": [
       "ad_crawler                0\n",
       "name                      0\n",
       "price                     0\n",
       "vehicle_type          37869\n",
       "registration_year         0\n",
       "gearbox               20209\n",
       "powerPS                   0\n",
       "model                 20484\n",
       "kilometer                 0\n",
       "registration_month        0\n",
       "fuel_type             33386\n",
       "brand                     0\n",
       "unrepaired_damage     72060\n",
       "date_create               0\n",
       "num_of_pictures           0\n",
       "postal_code               0\n",
       "last_seen                 0\n",
       "dtype: int64"
      ]
     },
     "execution_count": 7,
     "metadata": {},
     "output_type": "execute_result"
    }
   ],
   "source": [
    "#Verificando a quantidade de elementos nulos por atributo\n",
    "df.isnull().sum()"
   ]
  },
  {
   "cell_type": "markdown",
   "metadata": {},
   "source": [
    "Nos registros nulos dos atributos `vehicle_type`, `gearbox`, `model`, `fuel_type`, `unrepaired_damage` iremos inserir a informação \"uninformed\"."
   ]
  },
  {
   "cell_type": "code",
   "execution_count": 8,
   "metadata": {},
   "outputs": [],
   "source": [
    "df['vehicle_type'].fillna('uninformed',inplace = True)\n",
    "df['gearbox'].fillna('uninformed',inplace = True)\n",
    "df['model'].fillna('uninformed',inplace = True)\n",
    "df['fuel_type'].fillna('uninformed',inplace = True)\n",
    "df['unrepaired_damage'].fillna('uninformed',inplace = True)"
   ]
  },
  {
   "cell_type": "code",
   "execution_count": 9,
   "metadata": {},
   "outputs": [
    {
     "data": {
      "text/plain": [
       "4"
      ]
     },
     "execution_count": 9,
     "metadata": {},
     "output_type": "execute_result"
    }
   ],
   "source": [
    "#Verificando registros duplicados\n",
    "df.duplicated().sum()"
   ]
  },
  {
   "cell_type": "code",
   "execution_count": 10,
   "metadata": {},
   "outputs": [],
   "source": [
    "#Eliminando os registros duplicados\n",
    "df = df.drop_duplicates()"
   ]
  },
  {
   "cell_type": "markdown",
   "metadata": {},
   "source": [
    "## Limpeza nos dados"
   ]
  },
  {
   "cell_type": "markdown",
   "metadata": {},
   "source": [
    "Nesta etapa vamos obter algumas medidas estatísticas para conhecer mais profundamente nosso conjunto de dados e fazer a limpeza de dados mais precisa, tratando valores não concistentes e discrepantes."
   ]
  },
  {
   "cell_type": "markdown",
   "metadata": {
    "id": "1oKF6d2C-0cc"
   },
   "source": [
    "### Ano de registro"
   ]
  },
  {
   "cell_type": "code",
   "execution_count": 11,
   "metadata": {
    "colab": {
     "base_uri": "https://localhost:8080/"
    },
    "id": "wdX8myGOB2Es",
    "outputId": "4f650e28-e830-4b93-83cd-f39179f1d7ae"
   },
   "outputs": [
    {
     "data": {
      "text/plain": [
       "count    371524.000000\n",
       "mean       2004.578033\n",
       "std          92.867097\n",
       "min        1000.000000\n",
       "25%        1999.000000\n",
       "50%        2003.000000\n",
       "75%        2008.000000\n",
       "max        9999.000000\n",
       "Name: registration_year, dtype: float64"
      ]
     },
     "execution_count": 11,
     "metadata": {},
     "output_type": "execute_result"
    }
   ],
   "source": [
    "#Informações descritivas sobre o ano de registro dos veículos\n",
    "df['registration_year'].describe()"
   ]
  },
  {
   "cell_type": "markdown",
   "metadata": {},
   "source": [
    "Observamos que há registros informando valores não irreais do ano de registro. Neste caso, vamos eliminar todos os registros que informarem ano de registro superior a 2016 e inferiores a 1940."
   ]
  },
  {
   "cell_type": "code",
   "execution_count": 12,
   "metadata": {},
   "outputs": [],
   "source": [
    "df = df[df['registration_year'] <=2016]\n",
    "df = df[df['registration_year'] >=1940]"
   ]
  },
  {
   "cell_type": "markdown",
   "metadata": {},
   "source": [
    "### Preços dos veículos"
   ]
  },
  {
   "cell_type": "code",
   "execution_count": 13,
   "metadata": {},
   "outputs": [
    {
     "data": {
      "text/plain": [
       "count    3.565900e+05\n",
       "mean     1.739885e+04\n",
       "std      3.658225e+06\n",
       "min      0.000000e+00\n",
       "25%      1.150000e+03\n",
       "50%      2.999000e+03\n",
       "75%      7.400000e+03\n",
       "max      2.147484e+09\n",
       "Name: price, dtype: float64"
      ]
     },
     "execution_count": 13,
     "metadata": {},
     "output_type": "execute_result"
    }
   ],
   "source": [
    "#Informações descritivas sobre o ano de registro dos veículos\n",
    "df['price'].describe()"
   ]
  },
  {
   "cell_type": "markdown",
   "metadata": {},
   "source": [
    "Observamos que há veículos com valores de venda discrepantes (outliers). Neste caso, vamos eliminar esses registros. "
   ]
  },
  {
   "cell_type": "code",
   "execution_count": 14,
   "metadata": {},
   "outputs": [],
   "source": [
    "#Determinar os limites inferiores e superiores\n",
    "Q1 = np.percentile(df['price'],25)\n",
    "Q3 = np.percentile(df['price'],75)\n",
    "AIQ = Q3 - Q1\n",
    "LI = Q1 - 1.5 * AIQ \n",
    "LS = Q3 + 1.5 * AIQ\n",
    "\n",
    "#Eliminando os outliers\n",
    "df = df[df['price'] >= LI]\n",
    "df = df[df['price'] <= LS]"
   ]
  },
  {
   "cell_type": "markdown",
   "metadata": {},
   "source": [
    "### Quilometragem"
   ]
  },
  {
   "cell_type": "code",
   "execution_count": 15,
   "metadata": {},
   "outputs": [
    {
     "data": {
      "text/plain": [
       "count    330315.000000\n",
       "mean     129210.647412\n",
       "std       36981.824748\n",
       "min        5000.000000\n",
       "25%      125000.000000\n",
       "50%      150000.000000\n",
       "75%      150000.000000\n",
       "max      150000.000000\n",
       "Name: kilometer, dtype: float64"
      ]
     },
     "execution_count": 15,
     "metadata": {},
     "output_type": "execute_result"
    }
   ],
   "source": [
    "#Informações descritivas sobre o ano de registro dos veículos\n",
    "df['kilometer'].describe()"
   ]
  },
  {
   "cell_type": "markdown",
   "metadata": {},
   "source": [
    "Não iremos fazer nenhuma alterção nos registros da coluna `kilometer` pois não há valores irreais. Observe que não há carros com quilometragem zero, pois trata-se de uma lista de carros usados e o valor máximo da quilometragem é 150 mil."
   ]
  },
  {
   "cell_type": "markdown",
   "metadata": {},
   "source": [
    "## Análise exploratória dos dados"
   ]
  },
  {
   "cell_type": "markdown",
   "metadata": {},
   "source": [
    "Nesta seção, vamos explorar o conjunto de dados, afim de obter informações relevantes sobre os veículos anunciados."
   ]
  },
  {
   "cell_type": "markdown",
   "metadata": {
    "id": "Z1Gj1BcJEgjw"
   },
   "source": [
    "### Distribuição dos carros por ano de registro"
   ]
  },
  {
   "cell_type": "code",
   "execution_count": 16,
   "metadata": {
    "colab": {
     "base_uri": "https://localhost:8080/"
    },
    "id": "jYHUGuzf_EFK",
    "outputId": "502e5b64-3b54-4f47-cd7d-ccdca525f490"
   },
   "outputs": [
    {
     "data": {
      "image/png": "[encoded data removed]",
      "text/plain": [
       "<Figure size 720x432 with 1 Axes>"
      ]
     },
     "metadata": {
      "needs_background": "light"
     },
     "output_type": "display_data"
    }
   ],
   "source": [
    "#Distribuição dos carros por ano.\n",
    "plt.figure(figsize=(10,6))\n",
    "\n",
    "plt.hist(x=df['registration_year'], bins = 100,density=True)\n",
    "plt.xlabel('Ano de Registro')\n",
    "plt.ylabel(\"Densidade\")\n",
    "plt.title(\"Distribuição de veículos com base no ano de registro\")\n",
    "plt.grid()\n",
    "plt.show()"
   ]
  },
  {
   "cell_type": "markdown",
   "metadata": {},
   "source": [
    "### Variação dos preços dos carros por tipo"
   ]
  },
  {
   "cell_type": "code",
   "execution_count": 17,
   "metadata": {
    "id": "DnDrsMXTwKkQ"
   },
   "outputs": [],
   "source": [
    "#Padronizando os registros do tipo de veiculo para minusculo\n",
    "df['vehicle_type'] = df['vehicle_type'].str.lower().values"
   ]
  },
  {
   "cell_type": "code",
   "execution_count": 18,
   "metadata": {
    "colab": {
     "base_uri": "https://localhost:8080/"
    },
    "id": "Qn4NPFjTE91S",
    "outputId": "7e96d2a3-7e03-4bdf-ec40-b7ed70d070e8"
   },
   "outputs": [
    {
     "data": {
      "image/png": "[encoded data removed]",
      "text/plain": [
       "<Figure size 1080x504 with 1 Axes>"
      ]
     },
     "metadata": {
      "needs_background": "light"
     },
     "output_type": "display_data"
    }
   ],
   "source": [
    "plt.figure(figsize=(15,7))\n",
    "\n",
    "sns.set_theme(style=\"ticks\", palette=\"pastel\")\n",
    "sns.boxplot(x=df['vehicle_type'].sort_values(), y=df['price'], palette='mako')\n",
    "\n",
    "plt.xlabel('Tipos de carros')\n",
    "plt.ylabel('Preço')\n",
    "\n",
    "plt.grid()\n",
    "\n",
    "plt.title(\"Variação de preço de carros por tipo\")\n",
    "plt.show()"
   ]
  },
  {
   "cell_type": "markdown",
   "metadata": {
    "id": "QyM_HimRKJm0"
   },
   "source": [
    "### Número de vendas conforme o tipo veículo"
   ]
  },
  {
   "cell_type": "code",
   "execution_count": 19,
   "metadata": {
    "id": "31g3Cfh7x-L8"
   },
   "outputs": [],
   "source": [
    "#Criando um novo dataframe\n",
    "df2 = pd.DataFrame()"
   ]
  },
  {
   "cell_type": "code",
   "execution_count": 20,
   "metadata": {
    "id": "HX4B-MrxKvES"
   },
   "outputs": [],
   "source": [
    "#Listando os tipos unicos de veiculos e guardo no dataframe\n",
    "tipos = df['vehicle_type'].unique()\n",
    "df2['tipos'] = tipos"
   ]
  },
  {
   "cell_type": "code",
   "execution_count": 21,
   "metadata": {
    "id": "x9a7Z5nqLgdm"
   },
   "outputs": [],
   "source": [
    "#Somando os preços por tipo\n",
    "soma = []\n",
    "for tipo in tipos:\n",
    "    soma.append(df[df['vehicle_type'] == tipo]['price'].sum())\n",
    "\n",
    "df2['preco'] = soma"
   ]
  },
  {
   "cell_type": "code",
   "execution_count": 22,
   "metadata": {
    "colab": {
     "base_uri": "https://localhost:8080/"
    },
    "id": "qladwxN3MpFi",
    "outputId": "38cfbb83-b2bb-470c-8f63-f0fac99d12d9"
   },
   "outputs": [
    {
     "data": {
      "text/html": [
       "<div>\n",
       "<style scoped>\n",
       "    .dataframe tbody tr th:only-of-type {\n",
       "        vertical-align: middle;\n",
       "    }\n",
       "\n",
       "    .dataframe tbody tr th {\n",
       "        vertical-align: top;\n",
       "    }\n",
       "\n",
       "    .dataframe thead th {\n",
       "        text-align: right;\n",
       "    }\n",
       "</style>\n",
       "<table border=\"1\" class=\"dataframe\">\n",
       "  <thead>\n",
       "    <tr style=\"text-align: right;\">\n",
       "      <th></th>\n",
       "      <th>tipos</th>\n",
       "      <th>preco</th>\n",
       "      <th>porcentagem</th>\n",
       "    </tr>\n",
       "  </thead>\n",
       "  <tbody>\n",
       "    <tr>\n",
       "      <th>0</th>\n",
       "      <td>uninformed</td>\n",
       "      <td>40998539</td>\n",
       "      <td>3.041339</td>\n",
       "    </tr>\n",
       "    <tr>\n",
       "      <th>1</th>\n",
       "      <td>suv</td>\n",
       "      <td>84745461</td>\n",
       "      <td>6.286557</td>\n",
       "    </tr>\n",
       "    <tr>\n",
       "      <th>2</th>\n",
       "      <td>kleinwagen</td>\n",
       "      <td>208195734</td>\n",
       "      <td>15.444300</td>\n",
       "    </tr>\n",
       "  </tbody>\n",
       "</table>\n",
       "</div>"
      ],
      "text/plain": [
       "        tipos      preco  porcentagem\n",
       "0  uninformed   40998539     3.041339\n",
       "1         suv   84745461     6.286557\n",
       "2  kleinwagen  208195734    15.444300"
      ]
     },
     "execution_count": 22,
     "metadata": {},
     "output_type": "execute_result"
    }
   ],
   "source": [
    "#Inserindo a variável porcentagem\n",
    "df2['porcentagem'] = df2['preco']/sum(df2['preco']) * 100\n",
    "df2.head(3)"
   ]
  },
  {
   "cell_type": "code",
   "execution_count": 23,
   "metadata": {
    "colab": {
     "base_uri": "https://localhost:8080/"
    },
    "id": "hEvo05yETfGB",
    "outputId": "4466f12c-5846-44ed-b148-143e47d335d8"
   },
   "outputs": [
    {
     "data": {
      "text/html": [
       "<div>\n",
       "<style scoped>\n",
       "    .dataframe tbody tr th:only-of-type {\n",
       "        vertical-align: middle;\n",
       "    }\n",
       "\n",
       "    .dataframe tbody tr th {\n",
       "        vertical-align: top;\n",
       "    }\n",
       "\n",
       "    .dataframe thead th {\n",
       "        text-align: right;\n",
       "    }\n",
       "</style>\n",
       "<table border=\"1\" class=\"dataframe\">\n",
       "  <thead>\n",
       "    <tr style=\"text-align: right;\">\n",
       "      <th></th>\n",
       "      <th>tipos</th>\n",
       "      <th>preco</th>\n",
       "      <th>porcentagem</th>\n",
       "    </tr>\n",
       "  </thead>\n",
       "  <tbody>\n",
       "    <tr>\n",
       "      <th>3</th>\n",
       "      <td>limousine</td>\n",
       "      <td>385163493</td>\n",
       "      <td>28.572058</td>\n",
       "    </tr>\n",
       "    <tr>\n",
       "      <th>6</th>\n",
       "      <td>kombi</td>\n",
       "      <td>285489536</td>\n",
       "      <td>21.178081</td>\n",
       "    </tr>\n",
       "    <tr>\n",
       "      <th>2</th>\n",
       "      <td>kleinwagen</td>\n",
       "      <td>208195734</td>\n",
       "      <td>15.444300</td>\n",
       "    </tr>\n",
       "  </tbody>\n",
       "</table>\n",
       "</div>"
      ],
      "text/plain": [
       "        tipos      preco  porcentagem\n",
       "3   limousine  385163493    28.572058\n",
       "6       kombi  285489536    21.178081\n",
       "2  kleinwagen  208195734    15.444300"
      ]
     },
     "execution_count": 23,
     "metadata": {},
     "output_type": "execute_result"
    }
   ],
   "source": [
    "#Ordenando o dataframe\n",
    "df2.sort_values(by=['porcentagem'], ascending=False, inplace=True)\n",
    "df2.head(3)"
   ]
  },
  {
   "cell_type": "code",
   "execution_count": 24,
   "metadata": {
    "colab": {
     "base_uri": "https://localhost:8080/"
    },
    "id": "Zqy-VjPsNPg_",
    "outputId": "f9679d82-923d-422a-cf4e-3d5b39f81cdc"
   },
   "outputs": [
    {
     "name": "stderr",
     "output_type": "stream",
     "text": [
      "C:\\Users\\fmllo\\anaconda3\\lib\\site-packages\\seaborn\\_decorators.py:36: FutureWarning: Pass the following variables as keyword args: x, y. From version 0.12, the only valid positional argument will be `data`, and passing other arguments without an explicit keyword will result in an error or misinterpretation.\n",
      "  warnings.warn(\n"
     ]
    },
    {
     "data": {
      "image/png": "[encoded data removed]",
      "text/plain": [
       "<Figure size 864x504 with 1 Axes>"
      ]
     },
     "metadata": {},
     "output_type": "display_data"
    }
   ],
   "source": [
    "#Plotando o gráfico\n",
    "\n",
    "plt.figure(figsize=(12,7))\n",
    "\n",
    "x = list(df2['tipos'])\n",
    "y = list(df2['porcentagem'])\n",
    "\n",
    "sns.set_style('darkgrid')\n",
    "sns.barplot(y,x, orient='h',palette=\"mako\")\n",
    "\n",
    "plt.grid()\n",
    "plt.ylabel('Tipos de carros')\n",
    "plt.xlabel('Porcentagem de veículos')\n",
    "\n",
    "plt.title('Véiculos à venda conforme o tipo')\n",
    "\n",
    "plt.show()"
   ]
  },
  {
   "cell_type": "markdown",
   "metadata": {
    "id": "ZCnOjCOUzWce"
   },
   "source": [
    "### Número de veículos por marca"
   ]
  },
  {
   "cell_type": "code",
   "execution_count": 25,
   "metadata": {},
   "outputs": [],
   "source": [
    "#Criando um novo dataframe\n",
    "df3 = pd.DataFrame()"
   ]
  },
  {
   "cell_type": "code",
   "execution_count": 26,
   "metadata": {
    "colab": {
     "base_uri": "https://localhost:8080/"
    },
    "id": "Jqmic2hk0hE9",
    "outputId": "e9285cd8-e622-44dd-de26-b2fcf7a1184b"
   },
   "outputs": [
    {
     "data": {
      "text/html": [
       "<div>\n",
       "<style scoped>\n",
       "    .dataframe tbody tr th:only-of-type {\n",
       "        vertical-align: middle;\n",
       "    }\n",
       "\n",
       "    .dataframe tbody tr th {\n",
       "        vertical-align: top;\n",
       "    }\n",
       "\n",
       "    .dataframe thead th {\n",
       "        text-align: right;\n",
       "    }\n",
       "</style>\n",
       "<table border=\"1\" class=\"dataframe\">\n",
       "  <thead>\n",
       "    <tr style=\"text-align: right;\">\n",
       "      <th></th>\n",
       "      <th>marcas</th>\n",
       "      <th>quantidade</th>\n",
       "    </tr>\n",
       "  </thead>\n",
       "  <tbody>\n",
       "    <tr>\n",
       "      <th>0</th>\n",
       "      <td>volkswagen</td>\n",
       "      <td>71254</td>\n",
       "    </tr>\n",
       "    <tr>\n",
       "      <th>1</th>\n",
       "      <td>opel</td>\n",
       "      <td>37723</td>\n",
       "    </tr>\n",
       "    <tr>\n",
       "      <th>2</th>\n",
       "      <td>bmw</td>\n",
       "      <td>34114</td>\n",
       "    </tr>\n",
       "  </tbody>\n",
       "</table>\n",
       "</div>"
      ],
      "text/plain": [
       "       marcas  quantidade\n",
       "0  volkswagen       71254\n",
       "1        opel       37723\n",
       "2         bmw       34114"
      ]
     },
     "execution_count": 26,
     "metadata": {},
     "output_type": "execute_result"
    }
   ],
   "source": [
    "#Somando a quantidade de carros por marca e add em um df\n",
    "df3 = df['brand'].value_counts().to_frame()\n",
    "\n",
    "# mudando o nome das colunas\n",
    "df3 = df3.reset_index()\n",
    "df3.columns = ['marcas', 'quantidade'] \n",
    "df3.head(3)"
   ]
  },
  {
   "cell_type": "code",
   "execution_count": 27,
   "metadata": {
    "colab": {
     "base_uri": "https://localhost:8080/"
    },
    "id": "D3YIRNsC45uU",
    "outputId": "ab33998a-592a-45ad-ac1a-226cbaee1519"
   },
   "outputs": [
    {
     "name": "stderr",
     "output_type": "stream",
     "text": [
      "C:\\Users\\fmllo\\anaconda3\\lib\\site-packages\\seaborn\\_decorators.py:36: FutureWarning: Pass the following variables as keyword args: x, y. From version 0.12, the only valid positional argument will be `data`, and passing other arguments without an explicit keyword will result in an error or misinterpretation.\n",
      "  warnings.warn(\n"
     ]
    },
    {
     "data": {
      "image/png": "[encoded data removed]",
      "text/plain": [
       "<Figure size 864x720 with 1 Axes>"
      ]
     },
     "metadata": {},
     "output_type": "display_data"
    }
   ],
   "source": [
    "#Plotando o gráfico\n",
    "\n",
    "plt.figure(figsize=(12,10))\n",
    "\n",
    "x = df3['quantidade']\n",
    "y = df3['marcas']\n",
    "\n",
    "sns.set_style('darkgrid')\n",
    "sns.barplot(x,y,palette=\"mako\")\n",
    "\n",
    "plt.grid()\n",
    "plt.ylabel('Marca')\n",
    "plt.xlabel('Número de veículos')\n",
    "\n",
    "plt.title('Quantidade véiculos à venda conforme a marca')\n",
    "\n",
    "plt.show()"
   ]
  },
  {
   "cell_type": "markdown",
   "metadata": {
    "id": "Bs1yVyflAu56"
   },
   "source": [
    "### Preço médio dos veículos com base no tipo de veículo e no tipo de cambio"
   ]
  },
  {
   "cell_type": "code",
   "execution_count": 28,
   "metadata": {
    "colab": {
     "base_uri": "https://localhost:8080/"
    },
    "id": "0iX2uu28Dudw",
    "outputId": "b8466146-f2be-4c9f-ef18-8229bf033a0d"
   },
   "outputs": [
    {
     "data": {
      "text/plain": [
       "array(['manuell', 'automatik', 'uninformed'], dtype=object)"
      ]
     },
     "execution_count": 28,
     "metadata": {},
     "output_type": "execute_result"
    }
   ],
   "source": [
    "#determinando os tipos únicos de cambio\n",
    "df['gearbox'].unique()"
   ]
  },
  {
   "cell_type": "code",
   "execution_count": 29,
   "metadata": {
    "id": "L3OD3KSYEAcy"
   },
   "outputs": [],
   "source": [
    "#padronizando as strings para minusculo\n",
    "df['gearbox'] = df['gearbox'].str.lower().values"
   ]
  },
  {
   "cell_type": "code",
   "execution_count": 30,
   "metadata": {
    "id": "nAyjcr9lA6me"
   },
   "outputs": [],
   "source": [
    "#Filrando os cambios\n",
    "dfmanual = df[ df['gearbox'] == 'manuell']\n",
    "dfauto = df[ df['gearbox'] == 'automatik']\n",
    "dfnaoesp = df[ df['gearbox'] == 'uninformed']"
   ]
  },
  {
   "cell_type": "code",
   "execution_count": 31,
   "metadata": {
    "colab": {
     "base_uri": "https://localhost:8080/"
    },
    "id": "R9wcNiM5EoiO",
    "outputId": "8303230d-9367-4368-eeae-848dbc7b2db5"
   },
   "outputs": [],
   "source": [
    "#Agrupando os dfs por tipos de veiculos e inserindo a média de preço\n",
    "serie1 = dfmanual.groupby('vehicle_type')['price'].mean()\n",
    "serie2 = dfauto.groupby('vehicle_type')['price'].mean()\n",
    "serie3 = dfnaoesp.groupby('vehicle_type')['price'].mean()"
   ]
  },
  {
   "cell_type": "code",
   "execution_count": null,
   "metadata": {
    "colab": {
     "base_uri": "https://localhost:8080/",
     "height": 206
    },
    "id": "w4YbXiQDG3X0",
    "outputId": "6782bbf3-9368-460b-ce84-4f850e62891f"
   },
   "outputs": [],
   "source": [
    "#Criando o df final\n",
    "df4 = pd.DataFrame()\n",
    "df4['tipo']=serie1.index\n",
    "df4['media_preco_man'] = serie1.values\n",
    "df4['media_preco_aut'] = serie2.values\n",
    "df4['media_preco_noesp'] = serie3.values\n",
    "\n",
    "df4.head()"
   ]
  },
  {
   "cell_type": "code",
   "execution_count": 32,
   "metadata": {
    "colab": {
     "base_uri": "https://localhost:8080/",
     "height": 501
    },
    "id": "ckVg3MqTFs-R",
    "outputId": "0b5c7fa5-01d2-4ebd-dbc9-93b33b32b236"
   },
   "outputs": [
    {
     "ename": "NameError",
     "evalue": "name 'df4' is not defined",
     "output_type": "error",
     "traceback": [
      "\u001b[1;31m---------------------------------------------------------------------------\u001b[0m",
      "\u001b[1;31mNameError\u001b[0m                                 Traceback (most recent call last)",
      "\u001b[1;32m<ipython-input-32-e946031bb8db>\u001b[0m in \u001b[0;36m<module>\u001b[1;34m\u001b[0m\n\u001b[0;32m      4\u001b[0m \u001b[1;33m\u001b[0m\u001b[0m\n\u001b[0;32m      5\u001b[0m \u001b[0mbarWidth\u001b[0m \u001b[1;33m=\u001b[0m \u001b[1;36m0.25\u001b[0m\u001b[1;33m\u001b[0m\u001b[1;33m\u001b[0m\u001b[0m\n\u001b[1;32m----> 6\u001b[1;33m \u001b[0mlabels\u001b[0m \u001b[1;33m=\u001b[0m \u001b[0mlist\u001b[0m\u001b[1;33m(\u001b[0m\u001b[0mdf4\u001b[0m\u001b[1;33m[\u001b[0m\u001b[1;34m'tipo'\u001b[0m\u001b[1;33m]\u001b[0m\u001b[1;33m)\u001b[0m\u001b[1;33m\u001b[0m\u001b[1;33m\u001b[0m\u001b[0m\n\u001b[0m\u001b[0;32m      7\u001b[0m \u001b[1;33m\u001b[0m\u001b[0m\n\u001b[0;32m      8\u001b[0m \u001b[1;31m# Set position of bar on X axis\u001b[0m\u001b[1;33m\u001b[0m\u001b[1;33m\u001b[0m\u001b[1;33m\u001b[0m\u001b[0m\n",
      "\u001b[1;31mNameError\u001b[0m: name 'df4' is not defined"
     ]
    },
    {
     "data": {
      "text/plain": [
       "<Figure size 864x576 with 0 Axes>"
      ]
     },
     "metadata": {},
     "output_type": "display_data"
    }
   ],
   "source": [
    "#Exibindo os gráficos\n",
    "\n",
    "plt.figure(figsize = (12, 8))\n",
    "\n",
    "barWidth = 0.25\n",
    "labels = list(df4['tipo'])\n",
    "\n",
    "# Set position of bar on X axis\n",
    "br1 = np.arange(len(labels))\n",
    "br2 = br1 + barWidth\n",
    "br3 = br2 + barWidth\n",
    "\n",
    "# Make the plot\n",
    "plt.bar(br1, df4['media_preco_man'], width=barWidth, label='Manual', color='r')\n",
    "plt.bar(br2, df4['media_preco_aut'], width=barWidth, label='Automático', color='g')\n",
    "plt.bar(br3, df4['media_preco_noesp'], width=barWidth, label='Não especificado', color ='b')\n",
    "\n",
    "# Adding Xticks\n",
    "#plt.xlabel('Tipos', fontweight ='bold', fontsize = 15)\n",
    "plt.xticks(br1 + barWidth, labels)\n",
    "plt.title('Preço médio de veículos por tipo e por cambio')\n",
    "\n",
    "plt.legend()\n",
    "plt.show()"
   ]
  },
  {
   "cell_type": "markdown",
   "metadata": {
    "id": "O3zgXeC4e92Q"
   },
   "source": [
    "### Preço médio do veículo por tipo de combustível e caixa de cambio."
   ]
  },
  {
   "cell_type": "code",
   "execution_count": 33,
   "metadata": {
    "id": "egPB04n2fOvi"
   },
   "outputs": [],
   "source": [
    "#Agrupando os dfs por tipos de veiculos e inserindo a média de preço\n",
    "serie1 = dfmanual.groupby('fuel_type')['price'].mean()\n",
    "serie2 = dfauto.groupby('fuel_type')['price'].mean()\n",
    "serie3 = dfnaoesp.groupby('fuel_type')['price'].mean()"
   ]
  },
  {
   "cell_type": "code",
   "execution_count": 34,
   "metadata": {
    "colab": {
     "base_uri": "https://localhost:8080/",
     "height": 206
    },
    "id": "Hbd3D0nogDty",
    "outputId": "fc801112-7c7d-4a4b-80e4-32b927bba366"
   },
   "outputs": [
    {
     "data": {
      "text/html": [
       "<div>\n",
       "<style scoped>\n",
       "    .dataframe tbody tr th:only-of-type {\n",
       "        vertical-align: middle;\n",
       "    }\n",
       "\n",
       "    .dataframe tbody tr th {\n",
       "        vertical-align: top;\n",
       "    }\n",
       "\n",
       "    .dataframe thead th {\n",
       "        text-align: right;\n",
       "    }\n",
       "</style>\n",
       "<table border=\"1\" class=\"dataframe\">\n",
       "  <thead>\n",
       "    <tr style=\"text-align: right;\">\n",
       "      <th></th>\n",
       "      <th>tipo</th>\n",
       "      <th>media_preco_man</th>\n",
       "      <th>media_preco_aut</th>\n",
       "      <th>media_preco_noesp</th>\n",
       "    </tr>\n",
       "  </thead>\n",
       "  <tbody>\n",
       "    <tr>\n",
       "      <th>0</th>\n",
       "      <td>andere</td>\n",
       "      <td>2101.663793</td>\n",
       "      <td>3114.481481</td>\n",
       "      <td>1396.375000</td>\n",
       "    </tr>\n",
       "    <tr>\n",
       "      <th>1</th>\n",
       "      <td>benzin</td>\n",
       "      <td>3270.894897</td>\n",
       "      <td>5022.272433</td>\n",
       "      <td>2080.398237</td>\n",
       "    </tr>\n",
       "    <tr>\n",
       "      <th>2</th>\n",
       "      <td>cng</td>\n",
       "      <td>4462.376518</td>\n",
       "      <td>5680.714286</td>\n",
       "      <td>2646.307692</td>\n",
       "    </tr>\n",
       "    <tr>\n",
       "      <th>3</th>\n",
       "      <td>diesel</td>\n",
       "      <td>5474.422238</td>\n",
       "      <td>7707.807133</td>\n",
       "      <td>3463.913610</td>\n",
       "    </tr>\n",
       "    <tr>\n",
       "      <th>4</th>\n",
       "      <td>elektro</td>\n",
       "      <td>3384.615385</td>\n",
       "      <td>6911.600000</td>\n",
       "      <td>3778.090909</td>\n",
       "    </tr>\n",
       "  </tbody>\n",
       "</table>\n",
       "</div>"
      ],
      "text/plain": [
       "      tipo  media_preco_man  media_preco_aut  media_preco_noesp\n",
       "0   andere      2101.663793      3114.481481        1396.375000\n",
       "1   benzin      3270.894897      5022.272433        2080.398237\n",
       "2      cng      4462.376518      5680.714286        2646.307692\n",
       "3   diesel      5474.422238      7707.807133        3463.913610\n",
       "4  elektro      3384.615385      6911.600000        3778.090909"
      ]
     },
     "execution_count": 34,
     "metadata": {},
     "output_type": "execute_result"
    }
   ],
   "source": [
    "#Criando o df final\n",
    "df5 = pd.DataFrame()\n",
    "df5['tipo']=serie1.index\n",
    "df5['media_preco_man'] = serie1.values\n",
    "df5['media_preco_aut'] = serie2.values\n",
    "df5['media_preco_noesp'] = serie3.values\n",
    "\n",
    "df5.head()"
   ]
  },
  {
   "cell_type": "code",
   "execution_count": 35,
   "metadata": {
    "colab": {
     "base_uri": "https://localhost:8080/",
     "height": 501
    },
    "id": "FOI5XHOGh7tq",
    "outputId": "fb2d25c8-439a-43a6-8d55-b553e78cd932"
   },
   "outputs": [
    {
     "data": {
      "image/png": "[encoded data removed]",
      "text/plain": [
       "<Figure size 864x576 with 1 Axes>"
      ]
     },
     "metadata": {},
     "output_type": "display_data"
    }
   ],
   "source": [
    "#Exibindo os gráficos\n",
    "\n",
    "plt.figure(figsize = (12, 8))\n",
    "\n",
    "barWidth = 0.25\n",
    "labels = list(df5['tipo'])\n",
    "\n",
    "# Set position of bar on X axis\n",
    "br1 = np.arange(len(labels))\n",
    "br2 = br1 + barWidth\n",
    "br3 = br2 + barWidth\n",
    "\n",
    "# Make the plot\n",
    "plt.bar(br1, df5['media_preco_man'], width=barWidth, label='Manual', color='r')\n",
    "plt.bar(br2, df5['media_preco_aut'], width=barWidth, label='Automático', color='g')\n",
    "plt.bar(br3, df5['media_preco_noesp'], width=barWidth, label='Não especificado', color ='b')\n",
    "\n",
    "# Adding Xticks\n",
    "#plt.xlabel('Tipos', fontweight ='bold', fontsize = 15)\n",
    "plt.xticks(br1 + barWidth, labels)\n",
    "plt.title('Preço médio de veículos por tipo de combustível e por cambio')\n",
    "\n",
    "plt.legend()\n",
    "plt.show()"
   ]
  }
 ],
 "metadata": {
  "colab": {
   "collapsed_sections": [
    "I8X5LWgkwEiC",
    "1oKF6d2C-0cc",
    "Z1Gj1BcJEgjw",
    "QyM_HimRKJm0",
    "ZCnOjCOUzWce",
    "Bs1yVyflAu56",
    "O3zgXeC4e92Q"
   ],
   "name": "9 - MiniProjeto 2 - DSA.ipynb",
   "provenance": []
  },
  "kernelspec": {
   "display_name": "Python 3",
   "language": "python",
   "name": "python3"
  },
  "language_info": {
   "codemirror_mode": {
    "name": "ipython",
    "version": 3
   },
   "file_extension": ".py",
   "mimetype": "text/x-python",
   "name": "python",
   "nbconvert_exporter": "python",
   "pygments_lexer": "ipython3",
   "version": "3.8.8"
  }
 },
 "nbformat": 4,
 "nbformat_minor": 4
}
